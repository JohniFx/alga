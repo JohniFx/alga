{
 "cells": [
  {
   "cell_type": "code",
   "execution_count": 84,
   "metadata": {},
   "outputs": [],
   "source": [
    "import v20\n",
    "import configparser\n",
    "\n",
    "config = configparser.ConfigParser()\n",
    "config.read('config.ini')\n",
    "\n",
    "API_KEY = config['OANDA2']['API_KEY'] \n",
    "ACCOUNT_ID = config['OANDA2']['ACCOUNT_ID']\n",
    "HOSTNAME   = \"api-fxpractice.oanda.com\"\n",
    "STREAMHOST = \"stream-fxpractice.oanda.com\"\n",
    "key = f'Bearer {API_KEY}'\n",
    "\n",
    "# contexts\n",
    "ctx = v20.Context(hostname=HOSTNAME, token=key)\n",
    "ctx.set_header(key='Authorization', value=key)"
   ]
  },
  {
   "cell_type": "code",
   "execution_count": 85,
   "metadata": {},
   "outputs": [],
   "source": [
    "ac = ctx.account.summary(ACCOUNT_ID).get('account')"
   ]
  },
  {
   "cell_type": "code",
   "execution_count": 86,
   "metadata": {},
   "outputs": [],
   "source": [
    "ti = ['EUR_USD', 'EUR_CAD', 'EUR_NZD', 'EUR_CHF', 'EUR_JPY', 'EUR_AUD', 'EUR_GBP', 'GBP_USD', 'GBP_CAD', 'GBP_JPY', 'GBP_AUD',\n",
    "      'AUD_USD', 'AUD_CAD', 'AUD_NZD', 'AUD_JPY', 'NZD_USD', 'NZD_JPY', 'USD_CHF', 'USD_CAD', 'USD_JPY']\n",
    "ti_csv = ','.join(ti)"
   ]
  },
  {
   "cell_type": "code",
   "execution_count": 87,
   "metadata": {},
   "outputs": [],
   "source": [
    "insts = ctx.account.instruments(ACCOUNT_ID, instruments=ti_csv).get('instruments')"
   ]
  },
  {
   "cell_type": "code",
   "execution_count": 88,
   "metadata": {},
   "outputs": [
    {
     "name": "stdout",
     "output_type": "stream",
     "text": [
      "name: EUR_USD\n",
      "type: CURRENCY\n",
      "displayName: EUR/USD\n",
      "pipLocation: -4\n",
      "displayPrecision: 5\n",
      "tradeUnitsPrecision: 0\n",
      "minimumTradeSize: 1.0\n",
      "maximumTrailingStopDistance: 1.0\n",
      "minimumTrailingStopDistance: 0.0005\n",
      "maximumPositionSize: 0.0\n",
      "maximumOrderUnits: 100000000.0\n",
      "marginRate: 0.0333\n"
     ]
    }
   ],
   "source": [
    "print(insts[0])"
   ]
  },
  {
   "cell_type": "code",
   "execution_count": 89,
   "metadata": {},
   "outputs": [
    {
     "data": {
      "text/plain": [
       "5"
      ]
     },
     "execution_count": 89,
     "metadata": {},
     "output_type": "execute_result"
    }
   ],
   "source": [
    "insts[0].displayPrecision"
   ]
  },
  {
   "cell_type": "code",
   "execution_count": 95,
   "metadata": {},
   "outputs": [
    {
     "name": "stdout",
     "output_type": "stream",
     "text": [
      "{'type': 'MARKET', 'instrument': 'USD_CAD', 'units': '-108', 'takeProfitOnFill': {'timeInForce': 'GTC', 'distance': '0.00400'}, 'stopLossOnFill': {'timeInForce': 'GTC', 'distance': '0.00250'}, 'trailingStopLossOnFill': {'timeInForce': 'GTC', 'distance': '0.00350'}}\n",
      "Method = POST\n",
      "Path = https://api-fxpractice.oanda.com:443/v3/accounts/101-012-20737061-001/orders\n",
      "Status = 201\n",
      "Reason = Created\n",
      "Content-Type = application/json\n",
      "\n",
      "id: '101133'\n",
      "time: '2022-05-29T21:11:58.793541603Z'\n",
      "userID: 20737061\n",
      "accountID: 101-012-20737061-001\n",
      "batchID: '101133'\n",
      "requestID: '60979981765376071'\n",
      "type: MARKET_ORDER\n",
      "instrument: USD_CAD\n",
      "units: -108.0\n",
      "timeInForce: FOK\n",
      "positionFill: DEFAULT\n",
      "reason: CLIENT_ORDER\n",
      "takeProfitOnFill:\n",
      "  timeInForce: GTC\n",
      "stopLossOnFill:\n",
      "  distance: 0.0025\n",
      "  timeInForce: GTC\n",
      "trailingStopLossOnFill:\n",
      "  distance: 0.0035\n",
      "  timeInForce: GTC\n",
      "\n",
      "id: '101134'\n",
      "time: '2022-05-29T21:11:58.793541603Z'\n",
      "userID: 20737061\n",
      "accountID: 101-012-20737061-001\n",
      "batchID: '101133'\n",
      "requestID: '60979981765376071'\n",
      "type: ORDER_FILL\n",
      "orderID: '101133'\n",
      "instrument: USD_CAD\n",
      "units: -108.0\n",
      "gainQuoteHomeConversionFactor: 0.728462980178\n",
      "lossQuoteHomeConversionFactor: 0.73578421616\n",
      "price: 1.27168\n",
      "fullVWAP: 1.27168\n",
      "fullPrice:\n",
      "  type: PRICE\n",
      "  bids:\n",
      "  - price: 1.27168\n",
      "    liquidity: '10000000'\n",
      "  asks:\n",
      "  - price: 1.27368\n",
      "    liquidity: '10000000'\n",
      "  closeoutBid: 1.27168\n",
      "  closeoutAsk: 1.27368\n",
      "reason: MARKET_ORDER\n",
      "pl: 0.0\n",
      "financing: 0.0\n",
      "commission: 0.0\n",
      "guaranteedExecutionFee: 0.0\n",
      "accountBalance: 97912.9719\n",
      "tradeOpened:\n",
      "  tradeID: '101134'\n",
      "  units: -108.0\n",
      "  price: 1.27168\n",
      "  guaranteedExecutionFee: 0.0\n",
      "  halfSpreadCost: 0.0791\n",
      "  initialMarginRequired: 3.3515\n",
      "halfSpreadCost: 0.0791\n",
      "\n",
      "['101133', '101134', '101135', '101136', '101137']\n",
      "\n",
      "101137\n",
      "\n"
     ]
    }
   ],
   "source": [
    "inst = insts[18]\n",
    "u = -108\n",
    "units = f'{u:.{inst.tradeUnitsPrecision}f}'\n",
    "\n",
    "gp_sl = 25 * pow(10, inst.pipLocation)\n",
    "gp_ts = 35 * pow(10, inst.pipLocation)\n",
    "gp_tp = 40 * pow(10, inst.pipLocation)\n",
    "\n",
    "sl_on_fill = dict(\n",
    "    timeInForce='GTC', \n",
    "    # price=f'{sl_price:.{insts.displayPrecision}f}',\n",
    "    distance=f'{gp_sl:.{inst.displayPrecision}f}')\n",
    "\n",
    "tp_on_fill = dict(\n",
    "    timeInForce='GTC', \n",
    "    # price=f'{tp_price:.{inst.displayPrecision}f}',\n",
    "    distance=f'{gp_tp:.{inst.displayPrecision}f}')\n",
    "\n",
    "ts_on_fill = dict(\n",
    "    timeInForce='GTC', \n",
    "    distance=f'{gp_ts:.{inst.displayPrecision}f}')\n",
    "\n",
    "order = dict(\n",
    "    type='MARKET',\n",
    "    instrument=inst.name,\n",
    "    units=units,\n",
    "    takeProfitOnFill=tp_on_fill,\n",
    "    stopLossOnFill=sl_on_fill,\n",
    "    trailingStopLossOnFill=ts_on_fill)\n",
    "\n",
    "print(order)\n",
    "response = ctx.order.market(ACCOUNT_ID, **order)\n",
    "print(response)\n",
    "\n",
    "for b in response.body:\n",
    "    print(response.get(b))\n",
    "    print('')"
   ]
  },
  {
   "cell_type": "code",
   "execution_count": null,
   "metadata": {},
   "outputs": [],
   "source": [
    "olp=ctx.order.list_pending(ACCOUNT_ID)"
   ]
  }
 ],
 "metadata": {
  "kernelspec": {
   "display_name": "Python 3 (ipykernel)",
   "language": "python",
   "name": "python3"
  },
  "language_info": {
   "codemirror_mode": {
    "name": "ipython",
    "version": 3
   },
   "file_extension": ".py",
   "mimetype": "text/x-python",
   "name": "python",
   "nbconvert_exporter": "python",
   "pygments_lexer": "ipython3",
   "version": "3.10.4"
  }
 },
 "nbformat": 4,
 "nbformat_minor": 4
}
