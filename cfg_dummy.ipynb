{
 "cells": [
  {
   "cell_type": "code",
   "execution_count": 1,
   "metadata": {},
   "outputs": [],
   "source": [
    "import v20\n",
    "import configparser\n",
    "\n",
    "config = configparser.ConfigParser()\n",
    "config.read('config.ini')\n",
    "\n",
    "API_KEY = config['OANDA2']['API_KEY'] \n",
    "ACCOUNT_ID = config['OANDA2']['ACCOUNT_ID']\n",
    "HOSTNAME   = \"api-fxpractice.oanda.com\"\n",
    "STREAMHOST = \"stream-fxpractice.oanda.com\"\n",
    "key = f'Bearer {API_KEY}'\n",
    "\n",
    "# contexts\n",
    "ctx = v20.Context(hostname=HOSTNAME, token=key)\n",
    "ctx.set_header(key='Authorization', value=key)"
   ]
  },
  {
   "cell_type": "code",
   "execution_count": 6,
   "metadata": {},
   "outputs": [],
   "source": [
    "ac = ctx.account.summary(ACCOUNT_ID).get('account')"
   ]
  },
  {
   "cell_type": "code",
   "execution_count": null,
   "metadata": {},
   "outputs": [],
   "source": []
  }
 ],
 "metadata": {
  "kernelspec": {
   "display_name": "Python 3 (ipykernel)",
   "language": "python",
   "name": "python3"
  },
  "language_info": {
   "codemirror_mode": {
    "name": "ipython",
    "version": 3
   },
   "file_extension": ".py",
   "mimetype": "text/x-python",
   "name": "python",
   "nbconvert_exporter": "python",
   "pygments_lexer": "ipython3",
   "version": "3.10.4"
  }
 },
 "nbformat": 4,
 "nbformat_minor": 4
}
