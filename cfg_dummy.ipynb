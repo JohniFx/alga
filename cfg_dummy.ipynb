{
 "cells": [
  {
   "cell_type": "code",
   "execution_count": null,
   "metadata": {},
   "outputs": [],
   "source": [
    "import v20\n",
    "import configparser\n",
    "\n",
    "config = configparser.ConfigParser()\n",
    "config.read('config.ini')\n",
    "\n",
    "API_KEY = config['OANDA2']['API_KEY'] \n",
    "ACCOUNT_ID = config['OANDA2']['ACCOUNT_ID']\n",
    "HOSTNAME   = \"api-fxpractice.oanda.com\"\n",
    "STREAMHOST = \"stream-fxpractice.oanda.com\"\n",
    "key = f'Bearer {API_KEY}'\n",
    "\n",
    "# contexts\n",
    "ctx = v20.Context(hostname=HOSTNAME, token=key)\n",
    "ctx.set_header(key='Authorization', value=key)"
   ]
  },
  {
   "cell_type": "code",
   "execution_count": null,
   "metadata": {},
   "outputs": [],
   "source": [
    "ctx.transaction.get?"
   ]
  },
  {
   "cell_type": "code",
   "execution_count": null,
   "metadata": {},
   "outputs": [],
   "source": []
  }
 ],
 "metadata": {
  "kernelspec": {
   "display_name": "Python 3 (ipykernel)",
   "language": "python",
   "name": "python3"
  },
  "language_info": {
   "name": "python",
   "version": "3.8.10"
  },
  "orig_nbformat": 4
 },
 "nbformat": 4,
 "nbformat_minor": 2
}
