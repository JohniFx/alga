{
 "cells": [
  {
   "cell_type": "code",
   "execution_count": 1,
   "metadata": {},
   "outputs": [],
   "source": [
    "import v20\n",
    "import configparser\n",
    "\n",
    "config = configparser.ConfigParser()\n",
    "config.read('config.ini')\n",
    "\n",
    "API_KEY = config['OANDA2']['API_KEY'] \n",
    "ACCOUNT_ID = config['OANDA2']['ACCOUNT_ID']\n",
    "HOSTNAME   = \"api-fxpractice.oanda.com\"\n",
    "STREAMHOST = \"stream-fxpractice.oanda.com\"\n",
    "key = f'Bearer {API_KEY}'\n",
    "\n",
    "# contexts\n",
    "ctx = v20.Context(hostname=HOSTNAME, token=key)\n",
    "ctx.set_header(key='Authorization', value=key)"
   ]
  },
  {
   "cell_type": "code",
   "execution_count": 6,
   "metadata": {},
   "outputs": [],
   "source": [
    "ac = ctx.account.summary(ACCOUNT_ID).get('account')"
   ]
  },
  {
   "cell_type": "code",
   "execution_count": 18,
   "metadata": {},
   "outputs": [],
   "source": [
    "ti = ['EUR_USD', 'EUR_CAD', 'EUR_NZD', 'EUR_CHF', 'EUR_JPY', 'EUR_AUD', 'EUR_GBP',\n",
    "            'GBP_USD', 'GBP_CAD', 'GBP_JPY', 'GBP_AUD',\n",
    "            'AUD_USD', 'AUD_CAD', 'AUD_NZD', 'AUD_JPY',\n",
    "            'NZD_USD', 'NZD_JPY',\n",
    "            'USD_CHF', 'USD_CAD', 'USD_JPY']\n",
    "ti_csv = ','.join(ti)"
   ]
  },
  {
   "cell_type": "code",
   "execution_count": 19,
   "metadata": {},
   "outputs": [],
   "source": [
    "insts = ctx.account.instruments(ACCOUNT_ID, instruments=ti_csv).get('instruments')"
   ]
  },
  {
   "cell_type": "code",
   "execution_count": 22,
   "metadata": {},
   "outputs": [
    {
     "name": "stdout",
     "output_type": "stream",
     "text": [
      "name: USD_JPY\n",
      "type: CURRENCY\n",
      "displayName: USD/JPY\n",
      "pipLocation: -2\n",
      "displayPrecision: 3\n",
      "tradeUnitsPrecision: 0\n",
      "minimumTradeSize: 1.0\n",
      "maximumTrailingStopDistance: 100.0\n",
      "minimumTrailingStopDistance: 0.05\n",
      "maximumPositionSize: 0.0\n",
      "maximumOrderUnits: 100000000.0\n",
      "marginRate: 0.0333\n"
     ]
    }
   ],
   "source": [
    "print(insts[19])"
   ]
  },
  {
   "cell_type": "code",
   "execution_count": null,
   "metadata": {},
   "outputs": [],
   "source": []
  }
 ],
 "metadata": {
  "kernelspec": {
   "display_name": "Python 3 (ipykernel)",
   "language": "python",
   "name": "python3"
  },
  "language_info": {
   "codemirror_mode": {
    "name": "ipython",
    "version": 3
   },
   "file_extension": ".py",
   "mimetype": "text/x-python",
   "name": "python",
   "nbconvert_exporter": "python",
   "pygments_lexer": "ipython3",
   "version": "3.10.4"
  }
 },
 "nbformat": 4,
 "nbformat_minor": 4
}
