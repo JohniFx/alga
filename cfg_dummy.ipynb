{
 "cells": [
  {
   "cell_type": "code",
   "execution_count": null,
   "metadata": {},
   "outputs": [],
   "source": [
    "import v20\n",
    "import configparser\n",
    "\n",
    "config = configparser.ConfigParser()\n",
    "config.read('config.ini')\n",
    "\n",
    "API_KEY = config['OANDA2']['API_KEY'] \n",
    "ACCOUNT_ID = config['OANDA2']['ACCOUNT_ID']\n",
    "HOSTNAME   = \"api-fxpractice.oanda.com\"\n",
    "STREAMHOST = \"stream-fxpractice.oanda.com\"\n",
    "key = f'Bearer {API_KEY}'\n",
    "\n",
    "# contexts\n",
    "ctx = v20.Context(hostname=HOSTNAME, token=key)\n",
    "ctx.set_header(key='Authorization', value=key)"
   ]
  },
  {
   "cell_type": "code",
   "execution_count": null,
   "metadata": {},
   "outputs": [],
   "source": [
    "ac = ctx.account.summary(ACCOUNT_ID).get('account')"
   ]
  },
  {
   "cell_type": "code",
   "execution_count": null,
   "metadata": {},
   "outputs": [],
   "source": [
    "ti = ['EUR_USD', 'EUR_CAD', 'EUR_NZD', 'EUR_CHF', 'EUR_JPY', 'EUR_AUD', 'EUR_GBP', 'GBP_USD', 'GBP_CAD', 'GBP_JPY', 'GBP_AUD',\n",
    "      'AUD_USD', 'AUD_CAD', 'AUD_NZD', 'AUD_JPY', 'NZD_USD', 'NZD_JPY', 'USD_CHF', 'USD_CAD', 'USD_JPY']\n",
    "ti_csv = ','.join(ti)"
   ]
  },
  {
   "cell_type": "code",
   "execution_count": null,
   "metadata": {},
   "outputs": [],
   "source": [
    "insts = ctx.account.instruments(ACCOUNT_ID, instruments=ti_csv).get('instruments')"
   ]
  },
  {
   "cell_type": "code",
   "execution_count": null,
   "metadata": {},
   "outputs": [],
   "source": [
    "print(insts[0])"
   ]
  },
  {
   "cell_type": "code",
   "execution_count": null,
   "metadata": {},
   "outputs": [],
   "source": [
    "insts[0].displayPrecision"
   ]
  },
  {
   "cell_type": "code",
   "execution_count": null,
   "metadata": {},
   "outputs": [],
   "source": [
    "inst = insts[0]\n",
    "u = 105\n",
    "units = f'{u:.{inst.tradeUnitsPrecision}f}'\n",
    "\n",
    "gp_sl = 15 * pow(10, inst.pipLocation)\n",
    "gp_ts = 30 * pow(10, inst.pipLocation)\n",
    "\n",
    "sl_on_fill = dict(\n",
    "    timeInForce='GTC', \n",
    "    # price=f'{sl_price:.{insts.displayPrecision}f}',\n",
    "    distance=f'{gp_sl:.{inst.displayPrecision}f}')\n",
    "\n",
    "#tp_on_fill = dict(\n",
    "#    timeInForce='GTC', \n",
    "#    price=f'{tp_price:.{inst.displayPrecision}f}')\n",
    "\n",
    "ts_on_fill = dict(\n",
    "    timeInForce='GTC', \n",
    "    distance=f'{gp_ts:.{inst.displayPrecision}f}')\n",
    "\n",
    "order = dict(\n",
    "    type='MARKET',\n",
    "    instrument=inst.name,\n",
    "    units=units,\n",
    "    #takeProfitOnFill=tp_on_fill,\n",
    "    stopLossOnFill=sl_on_fill,\n",
    "    trailingStopLossOnFill=ts_on_fill\n",
    ")\n",
    "\n",
    "print(order)\n",
    "response = ctx.order.market(ACCOUNT_ID, **order)\n",
    "print(response)\n",
    "\n",
    "for b in response.body:\n",
    "    print(response.get(b))\n",
    "    print('')"
   ]
  },
  {
   "cell_type": "code",
   "execution_count": null,
   "metadata": {},
   "outputs": [],
   "source": [
    "olp=ctx.order.list_pending(ACCOUNT_ID)"
   ]
  }
 ],
 "metadata": {
  "kernelspec": {
   "display_name": "Python 3 (ipykernel)",
   "language": "python",
   "name": "python3"
  },
  "language_info": {
   "codemirror_mode": {
    "name": "ipython",
    "version": 3
   },
   "file_extension": ".py",
   "mimetype": "text/x-python",
   "name": "python",
   "nbconvert_exporter": "python",
   "pygments_lexer": "ipython3",
   "version": "3.10.4"
  }
 },
 "nbformat": 4,
 "nbformat_minor": 4
}
