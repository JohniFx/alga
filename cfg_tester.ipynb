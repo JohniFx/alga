{
 "cells": [
  {
   "cell_type": "code",
   "execution_count": 22,
   "id": "7c0cff03",
   "metadata": {},
   "outputs": [],
   "source": [
    "import cfg"
   ]
  },
  {
   "cell_type": "code",
   "execution_count": 23,
   "id": "8f2f8be5",
   "metadata": {},
   "outputs": [
    {
     "data": {
      "text/plain": [
       "<v20.account.Account at 0x7fd5881af880>"
      ]
     },
     "execution_count": 23,
     "metadata": {},
     "output_type": "execute_result"
    }
   ],
   "source": [
    "cfg.account"
   ]
  },
  {
   "cell_type": "code",
   "execution_count": 24,
   "id": "f3fb9a4b",
   "metadata": {
    "scrolled": false
   },
   "outputs": [
    {
     "data": {
      "text/plain": [
       "[<v20.trade.TradeSummary at 0x7fd57877c820>,\n",
       " <v20.trade.TradeSummary at 0x7fd57877d7b0>,\n",
       " <v20.trade.TradeSummary at 0x7fd57877e260>,\n",
       " <v20.trade.TradeSummary at 0x7fd57877df90>,\n",
       " <v20.trade.TradeSummary at 0x7fd561671690>,\n",
       " <v20.trade.TradeSummary at 0x7fd5615a4f10>]"
      ]
     },
     "execution_count": 24,
     "metadata": {},
     "output_type": "execute_result"
    }
   ],
   "source": [
    "cfg.account.trades"
   ]
  },
  {
   "cell_type": "code",
   "execution_count": 27,
   "id": "9a5e36a7",
   "metadata": {},
   "outputs": [],
   "source": [
    "def check_breakeven_for_instrument(instrument: str, trades: list):\n",
    "    all_breakeven = []\n",
    "    for t in trades:\n",
    "        if t.instrument == instrument:\n",
    "            for o in cfg.account.orders:\n",
    "                if o.id == t.stopLossOrderID:\n",
    "                    all_breakeven.append(\n",
    "                    (t.currentUnits > 0 ) and (o.price >=t.price)\n",
    "                    or\n",
    "                    (t.currentUnits <0 and o.price<=t.price))\n",
    "    return all(all_breakeven)"
   ]
  },
  {
   "cell_type": "code",
   "execution_count": 28,
   "id": "1492a9b3",
   "metadata": {},
   "outputs": [
    {
     "data": {
      "text/plain": [
       "False"
      ]
     },
     "execution_count": 28,
     "metadata": {},
     "output_type": "execute_result"
    }
   ],
   "source": [
    "check_breakeven_for_instrument('AUD_USD', cfg.account.trades)"
   ]
  },
  {
   "cell_type": "code",
   "execution_count": 26,
   "id": "550df33c",
   "metadata": {},
   "outputs": [
    {
     "name": "stdout",
     "output_type": "stream",
     "text": [
      "id: '174167'\n",
      "instrument: GBP_USD\n",
      "price: 1.3688\n",
      "openTime: '2022-01-12T15:00:06.742252741Z'\n",
      "state: OPEN\n",
      "initialUnits: -380.0\n",
      "initialMarginRequired: 15.6055\n",
      "currentUnits: -380.0\n",
      "realizedPL: 0.0\n",
      "unrealizedPL: 0.1254\n",
      "marginUsed: 15.5995\n",
      "financing: 0.0\n",
      "takeProfitOrderID: '174168'\n",
      "stopLossOrderID: '174169'\n"
     ]
    }
   ],
   "source": [
    "for t in cfg.account.trades:\n",
    "    print(t)\n",
    "    break"
   ]
  },
  {
   "cell_type": "code",
   "execution_count": 29,
   "id": "70a68961",
   "metadata": {},
   "outputs": [
    {
     "name": "stdout",
     "output_type": "stream",
     "text": [
      "id: '174168'\n",
      "createTime: '2022-01-12T15:00:06.742252741Z'\n",
      "state: PENDING\n",
      "type: TAKE_PROFIT\n",
      "tradeID: '174167'\n",
      "price: 1.3678\n",
      "timeInForce: GTC\n",
      "triggerCondition: DEFAULT\n"
     ]
    }
   ],
   "source": [
    "for o in cfg.account.orders:\n",
    "    print(o)\n",
    "    break"
   ]
  },
  {
   "cell_type": "code",
   "execution_count": 30,
   "id": "e83d341b",
   "metadata": {},
   "outputs": [
    {
     "name": "stdout",
     "output_type": "stream",
     "text": [
      "GBP_USD 0.1254\n",
      "AUD_USD -0.3757\n",
      "EUR_CHF -0.4422\n",
      "USD_CHF -0.1531\n",
      "EUR_USD -0.2462\n",
      "USD_JPY 0.0161\n"
     ]
    }
   ],
   "source": [
    "for t in cfg.account.trades:\n",
    "    print(f'{t.instrument} {t.unrealizedPL}')"
   ]
  },
  {
   "cell_type": "code",
   "execution_count": 33,
   "id": "a6e7058e",
   "metadata": {},
   "outputs": [
    {
     "name": "stdout",
     "output_type": "stream",
     "text": [
      "instrument: EUR_GBP\n",
      "pl: -377.7603\n",
      "unrealizedPL: 0.0\n",
      "resettablePL: -377.7603\n",
      "financing: -30.8321\n",
      "commission: 0.0\n",
      "guaranteedExecutionFees: 0.0\n",
      "long:\n",
      "  units: 0.0\n",
      "  pl: -171.0064\n",
      "  unrealizedPL: 0.0\n",
      "  resettablePL: -171.0064\n",
      "  financing: -30.6312\n",
      "  guaranteedExecutionFees: 0.0\n",
      "short:\n",
      "  units: 0.0\n",
      "  pl: -206.7539\n",
      "  unrealizedPL: 0.0\n",
      "  resettablePL: -206.7539\n",
      "  financing: -0.2009\n",
      "  guaranteedExecutionFees: 0.0\n"
     ]
    }
   ],
   "source": [
    "for p in cfg.account.positions:\n",
    "    print(p)\n",
    "    break"
   ]
  },
  {
   "cell_type": "code",
   "execution_count": 36,
   "id": "f9b1064e",
   "metadata": {
    "scrolled": false
   },
   "outputs": [
    {
     "name": "stdout",
     "output_type": "stream",
     "text": [
      "1563.2156 nav:1559.6553 margin:1487.5786\n"
     ]
    }
   ],
   "source": [
    "print(f'{cfg.account.balance} nav:{cfg.account.NAV} margin:{cfg.account.marginAvailable}')"
   ]
  },
  {
   "cell_type": "code",
   "execution_count": 35,
   "id": "806ce6d0",
   "metadata": {},
   "outputs": [
    {
     "data": {
      "text/plain": [
       "{'name': 'EUR_USD',\n",
       " 'type': 'CURRENCY',\n",
       " 'displayName': 'EUR/USD',\n",
       " 'pipLocation': -4,\n",
       " 'displayPrecision': 5,\n",
       " 'tradeUnitsPrecision': 0,\n",
       " 'minimumTradeSize': '1.0',\n",
       " 'maximumTrailingStopDistance': '1.0',\n",
       " 'minimumTrailingStopDistance': '0.0005',\n",
       " 'maximumPositionSize': '0.0',\n",
       " 'maximumOrderUnits': '100000000.0',\n",
       " 'marginRate': '0.02',\n",
       " 'bid': 1.14175,\n",
       " 'ask': 1.14189,\n",
       " 'spread': 0.00014}"
      ]
     },
     "execution_count": 35,
     "metadata": {},
     "output_type": "execute_result"
    }
   ],
   "source": [
    "cfg.instruments['EUR_USD']"
   ]
  }
 ],
 "metadata": {
  "kernelspec": {
   "display_name": "Python 3 (ipykernel)",
   "language": "python",
   "name": "python3"
  },
  "language_info": {
   "codemirror_mode": {
    "name": "ipython",
    "version": 3
   },
   "file_extension": ".py",
   "mimetype": "text/x-python",
   "name": "python",
   "nbconvert_exporter": "python",
   "pygments_lexer": "ipython3",
   "version": "3.10.1"
  }
 },
 "nbformat": 4,
 "nbformat_minor": 5
}
