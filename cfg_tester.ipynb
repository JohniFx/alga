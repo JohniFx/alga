{
 "cells": [
  {
   "cell_type": "code",
   "execution_count": 1,
   "id": "7c0cff03",
   "metadata": {},
   "outputs": [
    {
     "name": "stdout",
     "output_type": "stream",
     "text": [
      "running price stream\n",
      "running transaction stream\n",
      "running account update polling\n"
     ]
    }
   ],
   "source": [
    "import cfg"
   ]
  },
  {
   "cell_type": "code",
   "execution_count": 2,
   "id": "8f2f8be5",
   "metadata": {},
   "outputs": [
    {
     "data": {
      "text/plain": [
       "<v20.account.Account at 0x7f923040fa60>"
      ]
     },
     "execution_count": 2,
     "metadata": {},
     "output_type": "execute_result"
    }
   ],
   "source": [
    "cfg.account"
   ]
  },
  {
   "cell_type": "code",
   "execution_count": 3,
   "id": "f3fb9a4b",
   "metadata": {
    "scrolled": false
   },
   "outputs": [
    {
     "data": {
      "text/plain": [
       "[<v20.trade.TradeSummary at 0x7f923040fa00>,\n",
       " <v20.trade.TradeSummary at 0x7f923040fa30>,\n",
       " <v20.trade.TradeSummary at 0x7f923040f9d0>]"
      ]
     },
     "execution_count": 3,
     "metadata": {},
     "output_type": "execute_result"
    }
   ],
   "source": [
    "cfg.account.trades"
   ]
  },
  {
   "cell_type": "code",
   "execution_count": 10,
   "id": "f9b1064e",
   "metadata": {
    "scrolled": false
   },
   "outputs": [
    {
     "name": "stdout",
     "output_type": "stream",
     "text": [
      "1533.1584 nav:1535.2338 margin:1494.5529\n"
     ]
    }
   ],
   "source": [
    "print(f'{cfg.account.balance} nav:{cfg.account.NAV} margin:{cfg.account.marginAvailable}')"
   ]
  },
  {
   "cell_type": "code",
   "execution_count": 4,
   "id": "9a5e36a7",
   "metadata": {},
   "outputs": [],
   "source": [
    "def check_breakeven_for_instrument(instrument: str, trades: list):\n",
    "    all_breakeven = []\n",
    "    for t in trades:\n",
    "        if t.instrument == instrument:\n",
    "            for o in cfg.account.orders:\n",
    "                if o.id == t.stopLossOrderID:\n",
    "                    all_breakeven.append(\n",
    "                    (t.currentUnits > 0 ) and (o.price >=t.price)\n",
    "                    or\n",
    "                    (t.currentUnits <0 and o.price<=t.price))\n",
    "    return all(all_breakeven)"
   ]
  },
  {
   "cell_type": "code",
   "execution_count": 5,
   "id": "1492a9b3",
   "metadata": {},
   "outputs": [
    {
     "data": {
      "text/plain": [
       "True"
      ]
     },
     "execution_count": 5,
     "metadata": {},
     "output_type": "execute_result"
    }
   ],
   "source": [
    "check_breakeven_for_instrument('AUD_USD', cfg.account.trades)"
   ]
  },
  {
   "cell_type": "code",
   "execution_count": 6,
   "id": "550df33c",
   "metadata": {},
   "outputs": [
    {
     "name": "stdout",
     "output_type": "stream",
     "text": [
      "id: '179011'\n",
      "instrument: EUR_USD\n",
      "price: 1.13449\n",
      "openTime: '2022-01-20T15:47:38.204457736Z'\n",
      "state: OPEN\n",
      "initialUnits: -377.0\n",
      "initialMarginRequired: 8.5546\n",
      "currentUnits: -377.0\n",
      "realizedPL: 0.0\n",
      "unrealizedPL: 0.8935\n",
      "marginUsed: 8.5356\n",
      "financing: 0.0\n",
      "takeProfitOrderID: '179012'\n",
      "stopLossOrderID: '179013'\n",
      "trailingStopLossOrderID: '179014'\n"
     ]
    }
   ],
   "source": [
    "for t in cfg.account.trades:\n",
    "    print(t)\n",
    "    break"
   ]
  },
  {
   "cell_type": "code",
   "execution_count": 7,
   "id": "70a68961",
   "metadata": {},
   "outputs": [
    {
     "name": "stdout",
     "output_type": "stream",
     "text": [
      "id: '178973'\n",
      "createTime: '2022-01-20T15:14:37.822484019Z'\n",
      "state: PENDING\n",
      "type: TAKE_PROFIT\n",
      "tradeID: '178972'\n",
      "price: 1.04755\n",
      "timeInForce: GTC\n",
      "triggerCondition: DEFAULT\n"
     ]
    }
   ],
   "source": [
    "for o in cfg.account.orders:\n",
    "    print(o)\n",
    "    break"
   ]
  },
  {
   "cell_type": "code",
   "execution_count": 8,
   "id": "e83d341b",
   "metadata": {},
   "outputs": [
    {
     "name": "stdout",
     "output_type": "stream",
     "text": [
      "EUR_USD 0.8935\n",
      "EUR_CHF 0.1513\n",
      "USD_CHF 1.0306\n"
     ]
    }
   ],
   "source": [
    "for t in cfg.account.trades:\n",
    "    print(f'{t.instrument} {t.unrealizedPL}')"
   ]
  },
  {
   "cell_type": "code",
   "execution_count": 9,
   "id": "a6e7058e",
   "metadata": {},
   "outputs": [
    {
     "name": "stdout",
     "output_type": "stream",
     "text": [
      "instrument: EUR_USD\n",
      "pl: -384.2876\n",
      "unrealizedPL: 0.8935\n",
      "marginUsed: 8.5356\n",
      "resettablePL: -384.2876\n",
      "financing: -78.4284\n",
      "commission: 0.0\n",
      "guaranteedExecutionFees: 0.0\n",
      "long:\n",
      "  units: 0.0\n",
      "  pl: -152.6234\n",
      "  unrealizedPL: 0.0\n",
      "  resettablePL: -152.6234\n",
      "  financing: -79.5955\n",
      "  guaranteedExecutionFees: 0.0\n",
      "short:\n",
      "  units: -377.0\n",
      "  averagePrice: 1.13449\n",
      "  tradeIDs:\n",
      "  - '179011'\n",
      "  pl: -231.6642\n",
      "  unrealizedPL: 0.8935\n",
      "  resettablePL: -231.6642\n",
      "  financing: 1.1671\n",
      "  guaranteedExecutionFees: 0.0\n"
     ]
    }
   ],
   "source": [
    "for p in cfg.account.positions:\n",
    "    print(p)\n",
    "    break"
   ]
  },
  {
   "cell_type": "code",
   "execution_count": 11,
   "id": "806ce6d0",
   "metadata": {},
   "outputs": [
    {
     "data": {
      "text/plain": [
       "{'name': 'EUR_USD',\n",
       " 'type': 'CURRENCY',\n",
       " 'displayName': 'EUR/USD',\n",
       " 'pipLocation': -4,\n",
       " 'displayPrecision': 5,\n",
       " 'tradeUnitsPrecision': 0,\n",
       " 'minimumTradeSize': '1.0',\n",
       " 'maximumTrailingStopDistance': '1.0',\n",
       " 'minimumTrailingStopDistance': '0.0005',\n",
       " 'maximumPositionSize': '0.0',\n",
       " 'maximumOrderUnits': '100000000.0',\n",
       " 'marginRate': '0.02',\n",
       " 'bid': 1.13196,\n",
       " 'ask': 1.13212,\n",
       " 'spread': 0.00016}"
      ]
     },
     "execution_count": 11,
     "metadata": {},
     "output_type": "execute_result"
    }
   ],
   "source": [
    "cfg.instruments['EUR_USD']"
   ]
  },
  {
   "cell_type": "code",
   "execution_count": null,
   "id": "98a59333",
   "metadata": {},
   "outputs": [],
   "source": []
  },
  {
   "cell_type": "code",
   "execution_count": null,
   "id": "7eb3cd0d",
   "metadata": {},
   "outputs": [],
   "source": []
  },
  {
   "cell_type": "code",
   "execution_count": null,
   "id": "8b8291b0",
   "metadata": {},
   "outputs": [],
   "source": []
  }
 ],
 "metadata": {
  "kernelspec": {
   "display_name": "Python 3 (ipykernel)",
   "language": "python",
   "name": "python3"
  },
  "language_info": {
   "codemirror_mode": {
    "name": "ipython",
    "version": 3
   },
   "file_extension": ".py",
   "mimetype": "text/x-python",
   "name": "python",
   "nbconvert_exporter": "python",
   "pygments_lexer": "ipython3",
   "version": "3.10.1"
  }
 },
 "nbformat": 4,
 "nbformat_minor": 5
}
