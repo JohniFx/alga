{
 "cells": [
  {
   "cell_type": "code",
   "execution_count": 1,
   "id": "7c0cff03",
   "metadata": {},
   "outputs": [
    {
     "name": "stdout",
     "output_type": "stream",
     "text": [
      "running price stream\n",
      "running transaction stream\n",
      "running account update polling\n"
     ]
    }
   ],
   "source": [
    "import cfg"
   ]
  },
  {
   "cell_type": "code",
   "execution_count": 2,
   "id": "8f2f8be5",
   "metadata": {},
   "outputs": [
    {
     "data": {
      "text/plain": [
       "<v20.account.Account at 0x7fd5881af880>"
      ]
     },
     "execution_count": 2,
     "metadata": {},
     "output_type": "execute_result"
    }
   ],
   "source": [
    "cfg.account"
   ]
  },
  {
   "cell_type": "code",
   "execution_count": 3,
   "id": "f3fb9a4b",
   "metadata": {
    "scrolled": false
   },
   "outputs": [
    {
     "data": {
      "text/plain": [
       "[<v20.trade.TradeSummary at 0x7fd5881af820>,\n",
       " <v20.trade.TradeSummary at 0x7fd5881af850>,\n",
       " <v20.trade.TradeSummary at 0x7fd5881af7f0>,\n",
       " <v20.trade.TradeSummary at 0x7fd5881afd60>]"
      ]
     },
     "execution_count": 3,
     "metadata": {},
     "output_type": "execute_result"
    }
   ],
   "source": [
    "cfg.account.trades"
   ]
  },
  {
   "cell_type": "code",
   "execution_count": 4,
   "id": "8ae477da",
   "metadata": {},
   "outputs": [
    {
     "data": {
      "text/plain": [
       "list"
      ]
     },
     "execution_count": 4,
     "metadata": {},
     "output_type": "execute_result"
    }
   ],
   "source": [
    "type(cfg.account.trades)"
   ]
  },
  {
   "cell_type": "code",
   "execution_count": 5,
   "id": "550df33c",
   "metadata": {},
   "outputs": [
    {
     "name": "stdout",
     "output_type": "stream",
     "text": [
      "id: '174098'\n",
      "instrument: EUR_USD\n",
      "price: 1.14094\n",
      "openTime: '2022-01-12T14:23:46.376055431Z'\n",
      "state: OPEN\n",
      "initialUnits: 384.0\n",
      "initialMarginRequired: 8.7619\n",
      "currentUnits: 384.0\n",
      "realizedPL: 0.0\n",
      "unrealizedPL: 0.1843\n",
      "marginUsed: 8.7666\n",
      "financing: 0.0\n",
      "takeProfitOrderID: '174099'\n",
      "stopLossOrderID: '174100'\n",
      "trailingStopLossOrderID: '174101'\n"
     ]
    }
   ],
   "source": [
    "for t in cfg.account.trades:\n",
    "    print(t)\n",
    "    break"
   ]
  },
  {
   "cell_type": "code",
   "execution_count": 6,
   "id": "9a5e36a7",
   "metadata": {},
   "outputs": [],
   "source": [
    "def check_breakeven_for_instrument(instrument: str, trades: list):\n",
    "    all_breakeven = []\n",
    "    for t in trades:\n",
    "        if t.instrument == instrument:\n",
    "            for o in cfg.account.orders:\n",
    "                if o.id == t.stopLossOrderID:\n",
    "                    all_breakeven.append(\n",
    "                    (t.currentUnits > 0 ) and (o.price >=t.price)\n",
    "                    or\n",
    "                    (t.currentUnits <0 and o.price<=t.price))\n",
    "    return all(all_breakeven)"
   ]
  },
  {
   "cell_type": "code",
   "execution_count": 7,
   "id": "1492a9b3",
   "metadata": {},
   "outputs": [
    {
     "data": {
      "text/plain": [
       "False"
      ]
     },
     "execution_count": 7,
     "metadata": {},
     "output_type": "execute_result"
    }
   ],
   "source": [
    "check_breakeven_for_instrument('AUD_USD', cfg.account.trades)"
   ]
  },
  {
   "cell_type": "code",
   "execution_count": 14,
   "id": "70a68961",
   "metadata": {},
   "outputs": [
    {
     "name": "stdout",
     "output_type": "stream",
     "text": [
      "id: '174168'\n",
      "createTime: '2022-01-12T15:00:06.742252741Z'\n",
      "state: PENDING\n",
      "type: TAKE_PROFIT\n",
      "tradeID: '174167'\n",
      "price: 1.3678\n",
      "timeInForce: GTC\n",
      "triggerCondition: DEFAULT\n"
     ]
    }
   ],
   "source": [
    "for o in cfg.account.orders:\n",
    "    print(o)\n",
    "    break"
   ]
  },
  {
   "cell_type": "code",
   "execution_count": 17,
   "id": "c8f96a70",
   "metadata": {},
   "outputs": [
    {
     "name": "stdout",
     "output_type": "stream",
     "text": [
      "GBP_USD -0.0722\n",
      "AUD_USD -0.1562\n",
      "EUR_CHF -0.409\n",
      "EUR_CAD -0.1178\n",
      "USD_CHF -0.3105\n",
      "EUR_USD -0.0522\n",
      "USD_JPY -0.0292\n"
     ]
    }
   ],
   "source": [
    "for t in cfg.account.trades:\n",
    "    print(f'{t.instrument} {t.unrealizedPL}')"
   ]
  },
  {
   "cell_type": "code",
   "execution_count": 12,
   "id": "f9b1064e",
   "metadata": {},
   "outputs": [
    {
     "data": {
      "text/plain": [
       "1563.2156"
      ]
     },
     "execution_count": 12,
     "metadata": {},
     "output_type": "execute_result"
    }
   ],
   "source": [
    "cfg.account.balance"
   ]
  },
  {
   "cell_type": "code",
   "execution_count": 10,
   "id": "806ce6d0",
   "metadata": {},
   "outputs": [
    {
     "data": {
      "text/plain": [
       "{'name': 'EUR_USD',\n",
       " 'type': 'CURRENCY',\n",
       " 'displayName': 'EUR/USD',\n",
       " 'pipLocation': -4,\n",
       " 'displayPrecision': 5,\n",
       " 'tradeUnitsPrecision': 0,\n",
       " 'minimumTradeSize': '1.0',\n",
       " 'maximumTrailingStopDistance': '1.0',\n",
       " 'minimumTrailingStopDistance': '0.0005',\n",
       " 'maximumPositionSize': '0.0',\n",
       " 'maximumOrderUnits': '100000000.0',\n",
       " 'marginRate': '0.02',\n",
       " 'bid': 1.14135,\n",
       " 'ask': 1.14149,\n",
       " 'spread': 0.00014}"
      ]
     },
     "execution_count": 10,
     "metadata": {},
     "output_type": "execute_result"
    }
   ],
   "source": [
    "cfg.instruments['EUR_USD']"
   ]
  },
  {
   "cell_type": "code",
   "execution_count": 11,
   "id": "aebb4387",
   "metadata": {},
   "outputs": [
    {
     "data": {
      "text/plain": [
       "1523.0818"
      ]
     },
     "execution_count": 11,
     "metadata": {},
     "output_type": "execute_result"
    }
   ],
   "source": [
    "cfg.account.marginAvailable"
   ]
  },
  {
   "cell_type": "code",
   "execution_count": null,
   "id": "94d27c49",
   "metadata": {},
   "outputs": [],
   "source": []
  },
  {
   "cell_type": "code",
   "execution_count": null,
   "id": "432d669a",
   "metadata": {},
   "outputs": [],
   "source": []
  }
 ],
 "metadata": {
  "kernelspec": {
   "display_name": "Python 3 (ipykernel)",
   "language": "python",
   "name": "python3"
  },
  "language_info": {
   "codemirror_mode": {
    "name": "ipython",
    "version": 3
   },
   "file_extension": ".py",
   "mimetype": "text/x-python",
   "name": "python",
   "nbconvert_exporter": "python",
   "pygments_lexer": "ipython3",
   "version": "3.10.1"
  }
 },
 "nbformat": 4,
 "nbformat_minor": 5
}
