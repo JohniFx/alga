{
 "cells": [
  {
   "cell_type": "code",
   "execution_count": 1,
   "id": "fd83a105",
   "metadata": {},
   "outputs": [],
   "source": [
    "# Oanda API teszter"
   ]
  },
  {
   "cell_type": "code",
   "execution_count": 2,
   "id": "6959f6ef",
   "metadata": {},
   "outputs": [],
   "source": [
    "## Account"
   ]
  },
  {
   "cell_type": "code",
   "execution_count": 3,
   "id": "7c0cff03",
   "metadata": {},
   "outputs": [
    {
     "name": "stdout",
     "output_type": "stream",
     "text": [
      "running price streamrunning transaction stream\n",
      "\n",
      "running account update polling\n"
     ]
    }
   ],
   "source": [
    "import cfg"
   ]
  },
  {
   "cell_type": "code",
   "execution_count": 4,
   "id": "8f2f8be5",
   "metadata": {},
   "outputs": [
    {
     "data": {
      "text/plain": [
       "<v20.account.Account at 0x7fbda03b54e0>"
      ]
     },
     "execution_count": 4,
     "metadata": {},
     "output_type": "execute_result"
    }
   ],
   "source": [
    "cfg.account"
   ]
  },
  {
   "cell_type": "code",
   "execution_count": 5,
   "id": "f3fb9a4b",
   "metadata": {
    "scrolled": false
   },
   "outputs": [
    {
     "name": "stdout",
     "output_type": "stream",
     "text": [
      "    367, EUR_USD,  -0.0440, 2022-02-03T20:41:39.169755239Z\n",
      "   -372, EUR_CAD,  -0.1150, 2022-02-03T20:37:37.353441985Z\n",
      "   -379, EUR_CHF,  -0.3556, 2022-02-03T20:25:31.067306015Z\n",
      "    374, EUR_JPY,   0.0259, 2022-02-03T20:31:34.793314126Z\n",
      "   -372, EUR_NZD,  -0.1344, 2022-02-03T20:37:38.056302892Z\n"
     ]
    }
   ],
   "source": [
    "for t in cfg.account.trades:\n",
    "    print(f'{t.currentUnits:>7.0f}, {t.instrument}, {t.unrealizedPL:>8.4f}, {t.openTime}')"
   ]
  },
  {
   "cell_type": "code",
   "execution_count": 6,
   "id": "f9b1064e",
   "metadata": {
    "scrolled": false
   },
   "outputs": [
    {
     "name": "stdout",
     "output_type": "stream",
     "text": [
      "1516.6612 nav:1516.0381 margin:1460.4889\n"
     ]
    }
   ],
   "source": [
    "print(f'{cfg.account.balance} nav:{cfg.account.NAV} margin:{cfg.account.marginAvailable}')"
   ]
  },
  {
   "cell_type": "code",
   "execution_count": 5,
   "id": "9a5e36a7",
   "metadata": {},
   "outputs": [],
   "source": [
    "def check_breakeven_for_instrument(instrument: str, trades: list):\n",
    "    all_breakeven = []\n",
    "    for t in trades:\n",
    "        if t.instrument == instrument:\n",
    "            for o in cfg.account.orders:\n",
    "                if o.id == t.stopLossOrderID:\n",
    "                    all_breakeven.append(\n",
    "                    (t.currentUnits > 0 ) and (o.price >=t.price)\n",
    "                    or\n",
    "                    (t.currentUnits <0 and o.price<=t.price))\n",
    "    return all(all_breakeven)"
   ]
  },
  {
   "cell_type": "code",
   "execution_count": 6,
   "id": "1492a9b3",
   "metadata": {},
   "outputs": [
    {
     "data": {
      "text/plain": [
       "False"
      ]
     },
     "execution_count": 6,
     "metadata": {},
     "output_type": "execute_result"
    }
   ],
   "source": [
    "check_breakeven_for_instrument('AUD_USD', cfg.account.trades)"
   ]
  },
  {
   "cell_type": "code",
   "execution_count": 7,
   "id": "550df33c",
   "metadata": {},
   "outputs": [
    {
     "name": "stdout",
     "output_type": "stream",
     "text": [
      "id: '183576'\n",
      "instrument: EUR_USD\n",
      "price: 1.12933\n",
      "openTime: '2022-01-26T14:29:13.285193386Z'\n",
      "state: OPEN\n",
      "initialUnits: -364.0\n",
      "initialMarginRequired: 8.222\n",
      "currentUnits: -364.0\n",
      "realizedPL: 0.0\n",
      "unrealizedPL: 0.5533\n",
      "marginUsed: 8.2099\n",
      "financing: 0.0\n",
      "takeProfitOrderID: '183577'\n",
      "stopLossOrderID: '183578'\n",
      "trailingStopLossOrderID: '183579'\n"
     ]
    }
   ],
   "source": [
    "for t in cfg.account.trades:\n",
    "    print(t)\n",
    "    break"
   ]
  },
  {
   "cell_type": "code",
   "execution_count": 8,
   "id": "70a68961",
   "metadata": {},
   "outputs": [
    {
     "name": "stdout",
     "output_type": "stream",
     "text": [
      "id: '183410'\n",
      "createTime: '2022-01-26T09:38:07.001886322Z'\n",
      "state: PENDING\n",
      "type: TAKE_PROFIT\n",
      "tradeID: '183409'\n",
      "price: 0.71371\n",
      "timeInForce: GTC\n",
      "triggerCondition: DEFAULT\n"
     ]
    }
   ],
   "source": [
    "for o in cfg.account.orders:\n",
    "    print(o)\n",
    "    break"
   ]
  },
  {
   "cell_type": "code",
   "execution_count": 9,
   "id": "e83d341b",
   "metadata": {},
   "outputs": [
    {
     "name": "stdout",
     "output_type": "stream",
     "text": [
      "EUR_USD 0.5533\n",
      "EUR_CHF -0.0121\n",
      "USD_CHF 0.2413\n",
      "AUD_USD 0.3439\n",
      "AUD_JPY 0.4979\n",
      "AUD_CAD -0.0643\n",
      "EUR_GBP -0.0647\n"
     ]
    }
   ],
   "source": [
    "for t in cfg.account.trades:\n",
    "    print(f'{t.instrument} {t.unrealizedPL}')"
   ]
  },
  {
   "cell_type": "code",
   "execution_count": 10,
   "id": "a6e7058e",
   "metadata": {},
   "outputs": [
    {
     "name": "stdout",
     "output_type": "stream",
     "text": [
      "instrument: EUR_USD\n",
      "pl: -388.9146\n",
      "unrealizedPL: 0.6079\n",
      "marginUsed: 8.2099\n",
      "resettablePL: -388.9146\n",
      "financing: -78.4801\n",
      "commission: 0.0\n",
      "guaranteedExecutionFees: 0.0\n",
      "long:\n",
      "  units: 0.0\n",
      "  pl: -156.3461\n",
      "  unrealizedPL: 0.0\n",
      "  resettablePL: -156.3461\n",
      "  financing: -79.6348\n",
      "  guaranteedExecutionFees: 0.0\n",
      "short:\n",
      "  units: -364.0\n",
      "  averagePrice: 1.12933\n",
      "  tradeIDs:\n",
      "  - '183576'\n",
      "  pl: -232.5685\n",
      "  unrealizedPL: 0.6079\n",
      "  resettablePL: -232.5685\n",
      "  financing: 1.1547\n",
      "  guaranteedExecutionFees: 0.0\n"
     ]
    }
   ],
   "source": [
    "for p in cfg.account.positions:\n",
    "    print(p)\n",
    "    break"
   ]
  },
  {
   "cell_type": "code",
   "execution_count": 11,
   "id": "806ce6d0",
   "metadata": {},
   "outputs": [
    {
     "data": {
      "text/plain": [
       "{'name': 'EUR_USD',\n",
       " 'type': 'CURRENCY',\n",
       " 'displayName': 'EUR/USD',\n",
       " 'pipLocation': -4,\n",
       " 'displayPrecision': 5,\n",
       " 'tradeUnitsPrecision': 0,\n",
       " 'minimumTradeSize': '1.0',\n",
       " 'maximumTrailingStopDistance': '1.0',\n",
       " 'minimumTrailingStopDistance': '0.0005',\n",
       " 'maximumPositionSize': '0.0',\n",
       " 'maximumOrderUnits': '100000000.0',\n",
       " 'marginRate': '0.02',\n",
       " 'bid': 1.12766,\n",
       " 'ask': 1.12779,\n",
       " 'spread': 0.00013}"
      ]
     },
     "execution_count": 11,
     "metadata": {},
     "output_type": "execute_result"
    }
   ],
   "source": [
    "cfg.instruments['EUR_USD']"
   ]
  },
  {
   "cell_type": "code",
   "execution_count": null,
   "id": "98a59333",
   "metadata": {},
   "outputs": [],
   "source": []
  },
  {
   "cell_type": "code",
   "execution_count": null,
   "id": "7eb3cd0d",
   "metadata": {},
   "outputs": [],
   "source": []
  },
  {
   "cell_type": "code",
   "execution_count": null,
   "id": "8b8291b0",
   "metadata": {},
   "outputs": [],
   "source": []
  }
 ],
 "metadata": {
  "kernelspec": {
   "display_name": "Python 3 (ipykernel)",
   "language": "python",
   "name": "python3"
  },
  "language_info": {
   "codemirror_mode": {
    "name": "ipython",
    "version": 3
   },
   "file_extension": ".py",
   "mimetype": "text/x-python",
   "name": "python",
   "nbconvert_exporter": "python",
   "pygments_lexer": "ipython3",
   "version": "3.10.1"
  }
 },
 "nbformat": 4,
 "nbformat_minor": 5
}
