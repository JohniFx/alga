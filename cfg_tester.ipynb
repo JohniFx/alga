{
 "cells": [
  {
   "cell_type": "code",
   "execution_count": null,
   "id": "fd83a105",
   "metadata": {},
   "outputs": [],
   "source": [
    "# Oanda API teszter"
   ]
  },
  {
   "cell_type": "code",
   "execution_count": null,
   "id": "6959f6ef",
   "metadata": {},
   "outputs": [],
   "source": [
    "## Account"
   ]
  },
  {
   "cell_type": "code",
   "execution_count": 1,
   "id": "7c0cff03",
   "metadata": {},
   "outputs": [
    {
     "name": "stdout",
     "output_type": "stream",
     "text": [
      "running price stream\n",
      "running transaction stream\n",
      "running account update polling\n"
     ]
    }
   ],
   "source": [
    "import cfg"
   ]
  },
  {
   "cell_type": "code",
   "execution_count": 2,
   "id": "8f2f8be5",
   "metadata": {},
   "outputs": [
    {
     "data": {
      "text/plain": [
       "<v20.account.Account at 0x7fab48497a60>"
      ]
     },
     "execution_count": 2,
     "metadata": {},
     "output_type": "execute_result"
    }
   ],
   "source": [
    "cfg.account"
   ]
  },
  {
   "cell_type": "code",
   "execution_count": 3,
   "id": "f3fb9a4b",
   "metadata": {
    "scrolled": false
   },
   "outputs": [
    {
     "name": "stdout",
     "output_type": "stream",
     "text": [
      "    364, EUR_USD,  -0.1856, 2022-01-21T20:27:09.741023143Z\n",
      "    375, EUR_GBP,   0.0000, 2022-01-21T16:24:06.360822096Z\n",
      "   -372, USD_CHF,  -0.0287, 2022-01-21T21:48:11.417108389Z\n",
      "    361, USD_JPY,  -0.1085, 2022-01-21T17:20:49.273744047Z\n",
      "   -364, GBP_USD,   0.3567, 2022-01-21T18:54:08.365353679Z\n",
      "   -375, AUD_USD,   0.5438, 2022-01-21T16:24:06.360938717Z\n",
      "   -368, AUD_CAD,  -0.7173, 2022-01-21T21:54:11.568003098Z\n"
     ]
    }
   ],
   "source": [
    "for t in cfg.account.trades:\n",
    "    print(f'{t.currentUnits:>7.0f}, {t.instrument}, {t.unrealizedPL:>8.4f}, {t.openTime}')"
   ]
  },
  {
   "cell_type": "code",
   "execution_count": 4,
   "id": "f9b1064e",
   "metadata": {
    "scrolled": false
   },
   "outputs": [
    {
     "name": "stdout",
     "output_type": "stream",
     "text": [
      "1537.6708 nav:1537.5312 margin:1463.6066\n"
     ]
    }
   ],
   "source": [
    "print(f'{cfg.account.balance} nav:{cfg.account.NAV} margin:{cfg.account.marginAvailable}')"
   ]
  },
  {
   "cell_type": "code",
   "execution_count": 5,
   "id": "9a5e36a7",
   "metadata": {},
   "outputs": [],
   "source": [
    "def check_breakeven_for_instrument(instrument: str, trades: list):\n",
    "    all_breakeven = []\n",
    "    for t in trades:\n",
    "        if t.instrument == instrument:\n",
    "            for o in cfg.account.orders:\n",
    "                if o.id == t.stopLossOrderID:\n",
    "                    all_breakeven.append(\n",
    "                    (t.currentUnits > 0 ) and (o.price >=t.price)\n",
    "                    or\n",
    "                    (t.currentUnits <0 and o.price<=t.price))\n",
    "    return all(all_breakeven)"
   ]
  },
  {
   "cell_type": "code",
   "execution_count": 6,
   "id": "1492a9b3",
   "metadata": {},
   "outputs": [
    {
     "data": {
      "text/plain": [
       "False"
      ]
     },
     "execution_count": 6,
     "metadata": {},
     "output_type": "execute_result"
    }
   ],
   "source": [
    "check_breakeven_for_instrument('AUD_USD', cfg.account.trades)"
   ]
  },
  {
   "cell_type": "code",
   "execution_count": 7,
   "id": "550df33c",
   "metadata": {},
   "outputs": [
    {
     "name": "stdout",
     "output_type": "stream",
     "text": [
      "id: '180469'\n",
      "instrument: EUR_USD\n",
      "price: 1.13439\n",
      "openTime: '2022-01-21T20:27:09.741023143Z'\n",
      "state: OPEN\n",
      "initialUnits: 364.0\n",
      "initialMarginRequired: 8.2578\n",
      "currentUnits: 364.0\n",
      "realizedPL: 0.0\n",
      "unrealizedPL: -0.1856\n",
      "marginUsed: 8.2583\n",
      "financing: -0.0192\n",
      "takeProfitOrderID: '180470'\n",
      "stopLossOrderID: '180471'\n",
      "trailingStopLossOrderID: '180472'\n"
     ]
    }
   ],
   "source": [
    "for t in cfg.account.trades:\n",
    "    print(t)\n",
    "    break"
   ]
  },
  {
   "cell_type": "code",
   "execution_count": 8,
   "id": "70a68961",
   "metadata": {},
   "outputs": [
    {
     "name": "stdout",
     "output_type": "stream",
     "text": [
      "id: '180365'\n",
      "createTime: '2022-01-21T16:24:06.360822096Z'\n",
      "state: PENDING\n",
      "type: TAKE_PROFIT\n",
      "tradeID: '180364'\n",
      "price: 0.84139\n",
      "timeInForce: GTC\n",
      "triggerCondition: DEFAULT\n"
     ]
    }
   ],
   "source": [
    "for o in cfg.account.orders:\n",
    "    print(o)\n",
    "    break"
   ]
  },
  {
   "cell_type": "code",
   "execution_count": 9,
   "id": "e83d341b",
   "metadata": {},
   "outputs": [
    {
     "name": "stdout",
     "output_type": "stream",
     "text": [
      "EUR_USD -0.1856\n",
      "EUR_GBP 0.0\n",
      "USD_CHF -0.0287\n",
      "USD_JPY -0.1085\n",
      "GBP_USD 0.3567\n",
      "AUD_USD 0.5438\n",
      "AUD_CAD -0.7173\n"
     ]
    }
   ],
   "source": [
    "for t in cfg.account.trades:\n",
    "    print(f'{t.instrument} {t.unrealizedPL}')"
   ]
  },
  {
   "cell_type": "code",
   "execution_count": 10,
   "id": "a6e7058e",
   "metadata": {},
   "outputs": [
    {
     "name": "stdout",
     "output_type": "stream",
     "text": [
      "instrument: EUR_USD\n",
      "pl: -384.7528\n",
      "unrealizedPL: -0.1856\n",
      "marginUsed: 8.2583\n",
      "resettablePL: -384.7528\n",
      "financing: -78.4564\n",
      "commission: 0.0\n",
      "guaranteedExecutionFees: 0.0\n",
      "long:\n",
      "  units: 364.0\n",
      "  averagePrice: 1.13439\n",
      "  tradeIDs:\n",
      "  - '180469'\n",
      "  pl: -153.9157\n",
      "  unrealizedPL: -0.1856\n",
      "  resettablePL: -153.9157\n",
      "  financing: -79.6147\n",
      "  guaranteedExecutionFees: 0.0\n",
      "short:\n",
      "  units: 0.0\n",
      "  pl: -230.8371\n",
      "  unrealizedPL: 0.0\n",
      "  resettablePL: -230.8371\n",
      "  financing: 1.1583\n",
      "  guaranteedExecutionFees: 0.0\n"
     ]
    }
   ],
   "source": [
    "for p in cfg.account.positions:\n",
    "    print(p)\n",
    "    break"
   ]
  },
  {
   "cell_type": "code",
   "execution_count": 11,
   "id": "806ce6d0",
   "metadata": {},
   "outputs": [
    {
     "data": {
      "text/plain": [
       "{'name': 'EUR_USD',\n",
       " 'type': 'CURRENCY',\n",
       " 'displayName': 'EUR/USD',\n",
       " 'pipLocation': -4,\n",
       " 'displayPrecision': 5,\n",
       " 'tradeUnitsPrecision': 0,\n",
       " 'minimumTradeSize': '1.0',\n",
       " 'maximumTrailingStopDistance': '1.0',\n",
       " 'minimumTrailingStopDistance': '0.0005',\n",
       " 'maximumPositionSize': '0.0',\n",
       " 'maximumOrderUnits': '100000000.0',\n",
       " 'marginRate': '0.02',\n",
       " 'bid': 1.13388,\n",
       " 'ask': 1.13488,\n",
       " 'spread': 0.001}"
      ]
     },
     "execution_count": 11,
     "metadata": {},
     "output_type": "execute_result"
    }
   ],
   "source": [
    "cfg.instruments['EUR_USD']"
   ]
  },
  {
   "cell_type": "code",
   "execution_count": null,
   "id": "98a59333",
   "metadata": {},
   "outputs": [],
   "source": []
  },
  {
   "cell_type": "code",
   "execution_count": null,
   "id": "7eb3cd0d",
   "metadata": {},
   "outputs": [],
   "source": []
  },
  {
   "cell_type": "code",
   "execution_count": null,
   "id": "8b8291b0",
   "metadata": {},
   "outputs": [],
   "source": []
  }
 ],
 "metadata": {
  "kernelspec": {
   "display_name": "Python 3 (ipykernel)",
   "language": "python",
   "name": "python3"
  },
  "language_info": {
   "codemirror_mode": {
    "name": "ipython",
    "version": 3
   },
   "file_extension": ".py",
   "mimetype": "text/x-python",
   "name": "python",
   "nbconvert_exporter": "python",
   "pygments_lexer": "ipython3",
   "version": "3.10.1"
  }
 },
 "nbformat": 4,
 "nbformat_minor": 5
}
