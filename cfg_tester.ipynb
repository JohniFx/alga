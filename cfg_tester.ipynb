{
 "cells": [
  {
   "cell_type": "code",
   "execution_count": 1,
   "id": "7c0cff03",
   "metadata": {},
   "outputs": [
    {
     "name": "stdout",
     "output_type": "stream",
     "text": [
      "running price stream\n",
      "running transaction stream\n",
      "running account update polling\n"
     ]
    }
   ],
   "source": [
    "import cfg"
   ]
  },
  {
   "cell_type": "code",
   "execution_count": 2,
   "id": "8f2f8be5",
   "metadata": {},
   "outputs": [
    {
     "data": {
      "text/plain": [
       "<v20.account.Account at 0x7fe5855ecc40>"
      ]
     },
     "execution_count": 2,
     "metadata": {},
     "output_type": "execute_result"
    }
   ],
   "source": [
    "cfg.account"
   ]
  },
  {
   "cell_type": "code",
   "execution_count": 3,
   "id": "f3fb9a4b",
   "metadata": {
    "scrolled": false
   },
   "outputs": [
    {
     "name": "stdout",
     "output_type": "stream",
     "text": [
      "[]\n"
     ]
    }
   ],
   "source": [
    "print(cfg.account.trades)"
   ]
  },
  {
   "cell_type": "code",
   "execution_count": 4,
   "id": "f9b1064e",
   "metadata": {},
   "outputs": [
    {
     "data": {
      "text/plain": [
       "1608.9"
      ]
     },
     "execution_count": 4,
     "metadata": {},
     "output_type": "execute_result"
    }
   ],
   "source": [
    "cfg.account.balance"
   ]
  },
  {
   "cell_type": "code",
   "execution_count": 7,
   "id": "806ce6d0",
   "metadata": {},
   "outputs": [
    {
     "data": {
      "text/plain": [
       "{'name': 'EUR_USD',\n",
       " 'type': 'CURRENCY',\n",
       " 'displayName': 'EUR/USD',\n",
       " 'pipLocation': -4,\n",
       " 'displayPrecision': 5,\n",
       " 'tradeUnitsPrecision': 0,\n",
       " 'minimumTradeSize': '1.0',\n",
       " 'maximumTrailingStopDistance': '1.0',\n",
       " 'minimumTrailingStopDistance': '0.0005',\n",
       " 'maximumPositionSize': '0.0',\n",
       " 'maximumOrderUnits': '100000000.0',\n",
       " 'marginRate': '0.02',\n",
       " 'bid': 1.1312,\n",
       " 'ask': 1.1317,\n",
       " 'spread': 0.0005}"
      ]
     },
     "execution_count": 7,
     "metadata": {},
     "output_type": "execute_result"
    }
   ],
   "source": [
    "cfg.instruments['EUR_USD']"
   ]
  },
  {
   "cell_type": "code",
   "execution_count": null,
   "id": "aebb4387",
   "metadata": {},
   "outputs": [],
   "source": []
  }
 ],
 "metadata": {
  "kernelspec": {
   "display_name": "Python 3 (ipykernel)",
   "language": "python",
   "name": "python3"
  },
  "language_info": {
   "codemirror_mode": {
    "name": "ipython",
    "version": 3
   },
   "file_extension": ".py",
   "mimetype": "text/x-python",
   "name": "python",
   "nbconvert_exporter": "python",
   "pygments_lexer": "ipython3",
   "version": "3.9.9"
  }
 },
 "nbformat": 4,
 "nbformat_minor": 5
}
