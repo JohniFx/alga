{
 "cells": [
  {
   "cell_type": "code",
   "execution_count": 1,
   "id": "fd83a105",
   "metadata": {},
   "outputs": [],
   "source": [
    "# Oanda API teszter"
   ]
  },
  {
   "cell_type": "code",
   "execution_count": 2,
   "id": "6959f6ef",
   "metadata": {},
   "outputs": [],
   "source": [
    "## Account"
   ]
  },
  {
   "cell_type": "code",
   "execution_count": 1,
   "id": "8847506c",
   "metadata": {},
   "outputs": [],
   "source": [
    "import numpy as np\n",
    "import pandas as pd\n",
    "import matplotlib.pyplot as pld"
   ]
  },
  {
   "cell_type": "code",
   "execution_count": 2,
   "id": "7c0cff03",
   "metadata": {},
   "outputs": [
    {
     "name": "stdout",
     "output_type": "stream",
     "text": [
      "running price stream\n",
      "running transaction stream\n",
      "running account update polling\n"
     ]
    }
   ],
   "source": [
    "import cfg\n",
    "import trader\n",
    "import quant"
   ]
  },
  {
   "cell_type": "code",
   "execution_count": 3,
   "id": "8f2f8be5",
   "metadata": {},
   "outputs": [
    {
     "name": "stdout",
     "output_type": "stream",
     "text": [
      "99996.3732 nav:100013.7725 margin:99804.8677\n"
     ]
    }
   ],
   "source": [
    "print(f'{cfg.account.balance} nav:{cfg.account.NAV} margin:{cfg.account.marginAvailable}')"
   ]
  },
  {
   "cell_type": "code",
   "execution_count": 6,
   "id": "f3fb9a4b",
   "metadata": {},
   "outputs": [
    {
     "data": {
      "text/html": [
       "<div>\n",
       "<style scoped>\n",
       "    .dataframe tbody tr th:only-of-type {\n",
       "        vertical-align: middle;\n",
       "    }\n",
       "\n",
       "    .dataframe tbody tr th {\n",
       "        vertical-align: top;\n",
       "    }\n",
       "\n",
       "    .dataframe thead th {\n",
       "        text-align: right;\n",
       "    }\n",
       "</style>\n",
       "<table border=\"1\" class=\"dataframe\">\n",
       "  <thead>\n",
       "    <tr style=\"text-align: right;\">\n",
       "      <th></th>\n",
       "      <th>instrument</th>\n",
       "      <th>currentunits</th>\n",
       "      <th>unrealizedPL</th>\n",
       "    </tr>\n",
       "  </thead>\n",
       "  <tbody>\n",
       "    <tr>\n",
       "      <th>0</th>\n",
       "      <td>EUR_USD</td>\n",
       "      <td>1000.0</td>\n",
       "      <td>-1.0013</td>\n",
       "    </tr>\n",
       "    <tr>\n",
       "      <th>1</th>\n",
       "      <td>EUR_GBP</td>\n",
       "      <td>-1000.0</td>\n",
       "      <td>0.7751</td>\n",
       "    </tr>\n",
       "    <tr>\n",
       "      <th>2</th>\n",
       "      <td>EUR_AUD</td>\n",
       "      <td>1000.0</td>\n",
       "      <td>14.0674</td>\n",
       "    </tr>\n",
       "    <tr>\n",
       "      <th>3</th>\n",
       "      <td>EUR_CAD</td>\n",
       "      <td>1000.0</td>\n",
       "      <td>-0.3480</td>\n",
       "    </tr>\n",
       "    <tr>\n",
       "      <th>4</th>\n",
       "      <td>USD_CAD</td>\n",
       "      <td>-1000.0</td>\n",
       "      <td>1.2886</td>\n",
       "    </tr>\n",
       "    <tr>\n",
       "      <th>5</th>\n",
       "      <td>NZD_USD</td>\n",
       "      <td>1000.0</td>\n",
       "      <td>2.8249</td>\n",
       "    </tr>\n",
       "  </tbody>\n",
       "</table>\n",
       "</div>"
      ],
      "text/plain": [
       "  instrument  currentunits  unrealizedPL\n",
       "0    EUR_USD        1000.0       -1.0013\n",
       "1    EUR_GBP       -1000.0        0.7751\n",
       "2    EUR_AUD        1000.0       14.0674\n",
       "3    EUR_CAD        1000.0       -0.3480\n",
       "4    USD_CAD       -1000.0        1.2886\n",
       "5    NZD_USD        1000.0        2.8249"
      ]
     },
     "execution_count": 6,
     "metadata": {},
     "output_type": "execute_result"
    }
   ],
   "source": [
    "trades=[]\n",
    "for t in cfg.account.trades:\n",
    "    trade = dict(\n",
    "    instrument=t.instrument,\n",
    "    currentunits=t.currentUnits,\n",
    "    unrealizedPL = t.unrealizedPL)\n",
    "    trades.append(trade)\n",
    "trades_df = pd.DataFrame(trades)\n",
    "trades_df"
   ]
  },
  {
   "cell_type": "code",
   "execution_count": 5,
   "id": "f9b1064e",
   "metadata": {},
   "outputs": [
    {
     "name": "stdout",
     "output_type": "stream",
     "text": [
      "99996.3732 nav:100013.9799 margin:99805.0794\n"
     ]
    }
   ],
   "source": [
    "print(f'{cfg.account.balance} nav:{cfg.account.NAV} margin:{cfg.account.marginAvailable}')"
   ]
  },
  {
   "cell_type": "code",
   "execution_count": 5,
   "id": "9a5e36a7",
   "metadata": {},
   "outputs": [],
   "source": [
    "def check_breakeven_for_instrument(instrument: str, trades: list):\n",
    "    all_breakeven = []\n",
    "    for t in trades:\n",
    "        print('checking trade:', t)\n",
    "        if t.instrument == instrument:\n",
    "            for o in cfg.account.orders:\n",
    "                if o.id == t.stopLossOrderID:\n",
    "                    all_breakeven.append(\n",
    "                    (t.currentUnits > 0 ) and (o.price >=t.price)\n",
    "                    or\n",
    "                    (t.currentUnits <0 and o.price<=t.price))\n",
    "                    \n",
    "    return all(all_breakeven)"
   ]
  },
  {
   "cell_type": "code",
   "execution_count": 6,
   "id": "1492a9b3",
   "metadata": {},
   "outputs": [
    {
     "data": {
      "text/plain": [
       "True"
      ]
     },
     "execution_count": 6,
     "metadata": {},
     "output_type": "execute_result"
    }
   ],
   "source": [
    "check_breakeven_for_instrument('AUD_USD', cfg.account.trades)"
   ]
  },
  {
   "cell_type": "code",
   "execution_count": 8,
   "id": "27844a51",
   "metadata": {},
   "outputs": [],
   "source": [
    "def check_open_trades():\n",
    "    for t in cfg.account.trades:\n",
    "        print(t)"
   ]
  },
  {
   "cell_type": "code",
   "execution_count": 15,
   "id": "550df33c",
   "metadata": {},
   "outputs": [
    {
     "name": "stdout",
     "output_type": "stream",
     "text": [
      "loss close 101 EUR_USD -1.8802\n",
      "move to b/e 110 EUR_GBP 1.5275\n",
      "loss close 104 EUR_CAD -0.1531\n",
      "move to b/e 99 USD_CAD 0.3996\n",
      "move to b/e 108 NZD_USD 2.9679\n"
     ]
    }
   ],
   "source": [
    "for t in cfg.account.trades:\n",
    "    if t.stopLossOrderID is None:\n",
    "        if t.unrealizedPL >= 0:\n",
    "            print('move to b/e', t.id, t.instrument, t.unrealizedPL)\n",
    "        else:\n",
    "            print('loss close', t.id, t.instrument, t.unrealizedPL)\n"
   ]
  },
  {
   "cell_type": "code",
   "execution_count": 8,
   "id": "70a68961",
   "metadata": {},
   "outputs": [
    {
     "name": "stdout",
     "output_type": "stream",
     "text": [
      "id: '183410'\n",
      "createTime: '2022-01-26T09:38:07.001886322Z'\n",
      "state: PENDING\n",
      "type: TAKE_PROFIT\n",
      "tradeID: '183409'\n",
      "price: 0.71371\n",
      "timeInForce: GTC\n",
      "triggerCondition: DEFAULT\n"
     ]
    }
   ],
   "source": [
    "for o in cfg.account.orders:\n",
    "    print(o)"
   ]
  },
  {
   "cell_type": "code",
   "execution_count": 10,
   "id": "a6e7058e",
   "metadata": {},
   "outputs": [
    {
     "name": "stdout",
     "output_type": "stream",
     "text": [
      "instrument: EUR_USD\n",
      "pl: -388.9146\n",
      "unrealizedPL: 0.6079\n",
      "marginUsed: 8.2099\n",
      "resettablePL: -388.9146\n",
      "financing: -78.4801\n",
      "commission: 0.0\n",
      "guaranteedExecutionFees: 0.0\n",
      "long:\n",
      "  units: 0.0\n",
      "  pl: -156.3461\n",
      "  unrealizedPL: 0.0\n",
      "  resettablePL: -156.3461\n",
      "  financing: -79.6348\n",
      "  guaranteedExecutionFees: 0.0\n",
      "short:\n",
      "  units: -364.0\n",
      "  averagePrice: 1.12933\n",
      "  tradeIDs:\n",
      "  - '183576'\n",
      "  pl: -232.5685\n",
      "  unrealizedPL: 0.6079\n",
      "  resettablePL: -232.5685\n",
      "  financing: 1.1547\n",
      "  guaranteedExecutionFees: 0.0\n"
     ]
    }
   ],
   "source": [
    "for p in cfg.account.positions:\n",
    "    print(p)\n",
    "    break"
   ]
  },
  {
   "cell_type": "code",
   "execution_count": 11,
   "id": "806ce6d0",
   "metadata": {},
   "outputs": [
    {
     "data": {
      "text/plain": [
       "{'name': 'EUR_USD',\n",
       " 'type': 'CURRENCY',\n",
       " 'displayName': 'EUR/USD',\n",
       " 'pipLocation': -4,\n",
       " 'displayPrecision': 5,\n",
       " 'tradeUnitsPrecision': 0,\n",
       " 'minimumTradeSize': '1.0',\n",
       " 'maximumTrailingStopDistance': '1.0',\n",
       " 'minimumTrailingStopDistance': '0.0005',\n",
       " 'maximumPositionSize': '0.0',\n",
       " 'maximumOrderUnits': '100000000.0',\n",
       " 'marginRate': '0.02',\n",
       " 'bid': 1.12766,\n",
       " 'ask': 1.12779,\n",
       " 'spread': 0.00013}"
      ]
     },
     "execution_count": 11,
     "metadata": {},
     "output_type": "execute_result"
    }
   ],
   "source": [
    "cfg.instruments['EUR_USD']"
   ]
  },
  {
   "cell_type": "code",
   "execution_count": null,
   "id": "bc1713f3",
   "metadata": {},
   "outputs": [],
   "source": [
    "# Quant class and methods"
   ]
  },
  {
   "cell_type": "code",
   "execution_count": null,
   "id": "0f9ac760",
   "metadata": {},
   "outputs": [],
   "source": [
    "q = quant.Quant()"
   ]
  },
  {
   "cell_type": "code",
   "execution_count": 24,
   "id": "98a59333",
   "metadata": {},
   "outputs": [],
   "source": []
  },
  {
   "cell_type": "code",
   "execution_count": 32,
   "id": "596f974c",
   "metadata": {},
   "outputs": [
    {
     "name": "stdout",
     "output_type": "stream",
     "text": [
      "{'inst': 'EUR_USD', 's1': 1, 's2': 0, 's3': 0, 's4': 0, 'lrg': 1, 'sto': 77.84}\n"
     ]
    },
    {
     "data": {
      "text/plain": [
       "(1, 'S1')"
      ]
     },
     "execution_count": 32,
     "metadata": {},
     "output_type": "execute_result"
    }
   ],
   "source": [
    "q.get_signal('EUR_USD')"
   ]
  },
  {
   "cell_type": "code",
   "execution_count": 42,
   "id": "e80522ad",
   "metadata": {},
   "outputs": [
    {
     "data": {
      "image/png": "[encoded data removed]",
      "text/plain": [
       "<Figure size 432x288 with 1 Axes>"
      ]
     },
     "metadata": {
      "needs_background": "light"
     },
     "output_type": "display_data"
    }
   ],
   "source": [
    "df=q.get_candles('EUR_USD')\n",
    "df.mid_c.plot();"
   ]
  },
  {
   "cell_type": "code",
   "execution_count": 44,
   "id": "60ed7410",
   "metadata": {},
   "outputs": [
    {
     "data": {
      "text/html": [
       "<div>\n",
       "<style scoped>\n",
       "    .dataframe tbody tr th:only-of-type {\n",
       "        vertical-align: middle;\n",
       "    }\n",
       "\n",
       "    .dataframe tbody tr th {\n",
       "        vertical-align: top;\n",
       "    }\n",
       "\n",
       "    .dataframe thead th {\n",
       "        text-align: right;\n",
       "    }\n",
       "</style>\n",
       "<table border=\"1\" class=\"dataframe\">\n",
       "  <thead>\n",
       "    <tr style=\"text-align: right;\">\n",
       "      <th></th>\n",
       "      <th>mid_c</th>\n",
       "      <th>mom</th>\n",
       "      <th>mom_pos</th>\n",
       "      <th>mom_slope</th>\n",
       "    </tr>\n",
       "  </thead>\n",
       "  <tbody>\n",
       "    <tr>\n",
       "      <th>10</th>\n",
       "      <td>1.14375</td>\n",
       "      <td>0.00081</td>\n",
       "      <td>1.0</td>\n",
       "      <td>NaN</td>\n",
       "    </tr>\n",
       "    <tr>\n",
       "      <th>11</th>\n",
       "      <td>1.14412</td>\n",
       "      <td>0.00030</td>\n",
       "      <td>1.0</td>\n",
       "      <td>-1.0</td>\n",
       "    </tr>\n",
       "    <tr>\n",
       "      <th>12</th>\n",
       "      <td>1.14398</td>\n",
       "      <td>0.00052</td>\n",
       "      <td>1.0</td>\n",
       "      <td>1.0</td>\n",
       "    </tr>\n",
       "    <tr>\n",
       "      <th>13</th>\n",
       "      <td>1.14434</td>\n",
       "      <td>0.00060</td>\n",
       "      <td>1.0</td>\n",
       "      <td>1.0</td>\n",
       "    </tr>\n",
       "    <tr>\n",
       "      <th>14</th>\n",
       "      <td>1.14439</td>\n",
       "      <td>0.00013</td>\n",
       "      <td>1.0</td>\n",
       "      <td>-1.0</td>\n",
       "    </tr>\n",
       "  </tbody>\n",
       "</table>\n",
       "</div>"
      ],
      "text/plain": [
       "      mid_c      mom  mom_pos  mom_slope\n",
       "10  1.14375  0.00081      1.0        NaN\n",
       "11  1.14412  0.00030      1.0       -1.0\n",
       "12  1.14398  0.00052      1.0        1.0\n",
       "13  1.14434  0.00060      1.0        1.0\n",
       "14  1.14439  0.00013      1.0       -1.0"
      ]
     },
     "execution_count": 44,
     "metadata": {},
     "output_type": "execute_result"
    }
   ],
   "source": [
    "# signal 1 : momentum\n",
    "\n",
    "# add momentum indicators\n",
    "df['mom'] = df.mid_c.diff(10)\n",
    "df['mom_pos'] = np.sign(df.mom)\n",
    "df['mom_slope'] = np.sign(df.mom.diff(1))\n",
    "df[['mid_c', 'mom', 'mom_pos', 'mom_slope']].tail(5)\n",
    "# evaluate mom"
   ]
  },
  {
   "cell_type": "code",
   "execution_count": null,
   "id": "ae01b4da",
   "metadata": {},
   "outputs": [],
   "source": []
  }
 ],
 "metadata": {
  "kernelspec": {
   "display_name": "Python 3 (ipykernel)",
   "language": "python",
   "name": "python3"
  },
  "language_info": {
   "codemirror_mode": {
    "name": "ipython",
    "version": 3
   },
   "file_extension": ".py",
   "mimetype": "text/x-python",
   "name": "python",
   "nbconvert_exporter": "python",
   "pygments_lexer": "ipython3",
   "version": "3.10.2"
  }
 },
 "nbformat": 4,
 "nbformat_minor": 5
}
