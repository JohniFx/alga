{
 "cells": [
  {
   "cell_type": "code",
   "execution_count": 1,
   "id": "7c0cff03",
   "metadata": {},
   "outputs": [
    {
     "name": "stdout",
     "output_type": "stream",
     "text": [
      "running price streamrunning transaction stream\n",
      "\n",
      "running account update polling\n"
     ]
    }
   ],
   "source": [
    "import cfg"
   ]
  },
  {
   "cell_type": "code",
   "execution_count": 2,
   "id": "8f2f8be5",
   "metadata": {},
   "outputs": [
    {
     "data": {
      "text/plain": [
       "<v20.account.Account at 0x7fb5f2e16100>"
      ]
     },
     "execution_count": 2,
     "metadata": {},
     "output_type": "execute_result"
    }
   ],
   "source": [
    "cfg.account"
   ]
  },
  {
   "cell_type": "code",
   "execution_count": 3,
   "id": "f3fb9a4b",
   "metadata": {
    "scrolled": false
   },
   "outputs": [
    {
     "name": "stdout",
     "output_type": "stream",
     "text": [
      "[<v20.trade.TradeSummary object at 0x7fb5f2e160d0>, <v20.trade.TradeSummary object at 0x7fb5f2e16070>, <v20.trade.TradeSummary object at 0x7fb5f2e160a0>]\n"
     ]
    }
   ],
   "source": [
    "print(cfg.account.trades)"
   ]
  },
  {
   "cell_type": "code",
   "execution_count": 5,
   "id": "8ae477da",
   "metadata": {},
   "outputs": [
    {
     "data": {
      "text/plain": [
       "list"
      ]
     },
     "execution_count": 5,
     "metadata": {},
     "output_type": "execute_result"
    }
   ],
   "source": [
    "type(cfg.account.trades)"
   ]
  },
  {
   "cell_type": "code",
   "execution_count": 4,
   "id": "550df33c",
   "metadata": {},
   "outputs": [
    {
     "name": "stdout",
     "output_type": "stream",
     "text": [
      "id: '162006'\n",
      "instrument: EUR_USD\n",
      "price: 1.12948\n",
      "openTime: '2021-12-29T11:21:54.684369425Z'\n",
      "state: OPEN\n",
      "initialUnits: -395.0\n",
      "initialMarginRequired: 8.9234\n",
      "currentUnits: -395.0\n",
      "realizedPL: 0.0\n",
      "unrealizedPL: -0.3081\n",
      "marginUsed: 8.9285\n",
      "financing: 0.0\n",
      "takeProfitOrderID: '162007'\n",
      "stopLossOrderID: '162008'\n",
      "trailingStopLossOrderID: '162009'\n"
     ]
    }
   ],
   "source": [
    "for t in cfg.account.trades:\n",
    "    print(t)\n",
    "    break"
   ]
  },
  {
   "cell_type": "code",
   "execution_count": 23,
   "id": "9a5e36a7",
   "metadata": {},
   "outputs": [],
   "source": [
    "def check_breakeven_for_instrument(instrument: str, trades: list):\n",
    "    all_breakeven = []\n",
    "    for t in trades:\n",
    "        if t.instrument == instrument:\n",
    "            for o in cfg.account.orders:\n",
    "                if o.id == t.stopLossOrderID:\n",
    "                    all_breakeven.append(\n",
    "                    (t.currentUnits > 0 ) and o.price >=t.price)\n",
    "                    or\n",
    "                    (t.currentUnits <0 and o.price<=t.price))\n",
    "    return all(all_breakeven)"
   ]
  },
  {
   "cell_type": "code",
   "execution_count": 24,
   "id": "1492a9b3",
   "metadata": {},
   "outputs": [
    {
     "name": "stdout",
     "output_type": "stream",
     "text": [
      "trade: 387.0 AUD_USD @ 0.72258\n",
      " Stop: 0.72124\n",
      " Trailing Stop: 0.72164\n"
     ]
    }
   ],
   "source": [
    "check_breakeven_for_instrument('AUD_USD', cfg.account.trades)"
   ]
  },
  {
   "cell_type": "code",
   "execution_count": 12,
   "id": "70a68961",
   "metadata": {},
   "outputs": [
    {
     "name": "stdout",
     "output_type": "stream",
     "text": [
      "id: '162007'\n",
      "createTime: '2021-12-29T11:21:54.684369425Z'\n",
      "state: PENDING\n",
      "type: TAKE_PROFIT\n",
      "tradeID: '162006'\n",
      "price: 1.12071\n",
      "timeInForce: GTC\n",
      "triggerCondition: DEFAULT\n"
     ]
    }
   ],
   "source": [
    "for o in cfg.account.orders:\n",
    "    print(o)\n",
    "    break"
   ]
  },
  {
   "cell_type": "code",
   "execution_count": null,
   "id": "7abf2ee3",
   "metadata": {},
   "outputs": [],
   "source": [
    "for t in cfg.account.trades:\n",
    "    check_breakeven(t)\n",
    "    break"
   ]
  },
  {
   "cell_type": "code",
   "execution_count": 4,
   "id": "f9b1064e",
   "metadata": {},
   "outputs": [
    {
     "data": {
      "text/plain": [
       "1608.9"
      ]
     },
     "execution_count": 4,
     "metadata": {},
     "output_type": "execute_result"
    }
   ],
   "source": [
    "cfg.account.balance"
   ]
  },
  {
   "cell_type": "code",
   "execution_count": 7,
   "id": "806ce6d0",
   "metadata": {},
   "outputs": [
    {
     "data": {
      "text/plain": [
       "{'name': 'EUR_USD',\n",
       " 'type': 'CURRENCY',\n",
       " 'displayName': 'EUR/USD',\n",
       " 'pipLocation': -4,\n",
       " 'displayPrecision': 5,\n",
       " 'tradeUnitsPrecision': 0,\n",
       " 'minimumTradeSize': '1.0',\n",
       " 'maximumTrailingStopDistance': '1.0',\n",
       " 'minimumTrailingStopDistance': '0.0005',\n",
       " 'maximumPositionSize': '0.0',\n",
       " 'maximumOrderUnits': '100000000.0',\n",
       " 'marginRate': '0.02',\n",
       " 'bid': 1.1312,\n",
       " 'ask': 1.1317,\n",
       " 'spread': 0.0005}"
      ]
     },
     "execution_count": 7,
     "metadata": {},
     "output_type": "execute_result"
    }
   ],
   "source": [
    "cfg.instruments['EUR_USD']"
   ]
  },
  {
   "cell_type": "code",
   "execution_count": null,
   "id": "aebb4387",
   "metadata": {},
   "outputs": [],
   "source": [
    "cfg.account.marginAvailable"
   ]
  }
 ],
 "metadata": {
  "kernelspec": {
   "display_name": "Python 3 (ipykernel)",
   "language": "python",
   "name": "python3"
  },
  "language_info": {
   "codemirror_mode": {
    "name": "ipython",
    "version": 3
   },
   "file_extension": ".py",
   "mimetype": "text/x-python",
   "name": "python",
   "nbconvert_exporter": "python",
   "pygments_lexer": "ipython3",
   "version": "3.9.9"
  }
 },
 "nbformat": 4,
 "nbformat_minor": 5
}
