{
 "cells": [
  {
   "cell_type": "code",
   "execution_count": null,
   "metadata": {},
   "outputs": [],
   "source": [
    "import v20\n",
    "import pandas as pd\n",
    "import defs"
   ]
  },
  {
   "cell_type": "code",
   "execution_count": null,
   "metadata": {},
   "outputs": [],
   "source": [
    "# create context\n",
    "ctx = v20.Context(hostname= 'api-fxpractice.oanda.com', token=defs.key)\n",
    "ctx.set_header(key='Authorization', value =defs.key)\n",
    "\n",
    "# streaming context\n",
    "ctxs=v20.Context(hostname='stream-fxpractice.oanda.com', token=defs.key)\n",
    "ctxs.set_header(key='Authorization', value =defs.key)"
   ]
  },
  {
   "cell_type": "code",
   "execution_count": null,
   "metadata": {},
   "outputs": [],
   "source": [
    "instruments = ctx.account.instruments(defs.ACCOUNT_ID).get('instruments')\n",
    "insts={}\n",
    "inst_list=[]\n",
    "for i in instruments:\n",
    "    insts[i.name] = dict(i.__dict__)\n",
    "    inst_list.append(i.name)\n",
    "inst_str=','.join(inst_list)"
   ]
  },
  {
   "cell_type": "code",
   "execution_count": null,
   "metadata": {},
   "outputs": [],
   "source": [
    "%%time\n",
    "prices = ctx.pricing.get(defs.ACCOUNT_ID, instruments=inst_str).get('prices')\n",
    "price_list = []\n",
    "for p in prices:\n",
    "    price_list.append(dict(\n",
    "        instrument=p.instrument,\n",
    "        bid=p.bids[0].price,\n",
    "        ask=p.asks[0].price,\n",
    "        spread =p.asks[0].price-p.bids[0].price))\n",
    "df = pd.DataFrame(price_list)    \n",
    "print(df[df.spread < 0.0003].sort_values(by='spread').to_string(index=False))"
   ]
  },
  {
   "cell_type": "code",
   "execution_count": null,
   "metadata": {},
   "outputs": [],
   "source": [
    "insts['EUR_CAD']"
   ]
  }
 ],
 "metadata": {
  "language_info": {
   "name": "python"
  },
  "orig_nbformat": 4
 },
 "nbformat": 4,
 "nbformat_minor": 2
}
