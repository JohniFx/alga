{
 "cells": [
  {
   "cell_type": "code",
   "execution_count": 3,
   "metadata": {},
   "outputs": [],
   "source": [
    "import v20\n",
    "import pandas as pd\n",
    "import defs"
   ]
  },
  {
   "cell_type": "code",
   "execution_count": 4,
   "metadata": {},
   "outputs": [],
   "source": [
    "# create context\n",
    "ctx = v20.Context(hostname='api-fxpractice.oanda.com', token=defs.key)\n",
    "ctx.set_header(key='Authorization', value=defs.key)\n",
    "\n",
    "# streaming context\n",
    "ctxs = v20.Context(hostname='stream-fxpractice.oanda.com', token=defs.key)\n",
    "ctxs.set_header(key='Authorization', value=defs.key)"
   ]
  },
  {
   "cell_type": "code",
   "execution_count": 6,
   "metadata": {},
   "outputs": [],
   "source": [
    "instruments = ctx.account.instruments(defs.ACCOUNT_ID).get('instruments')\n",
    "insts = {i.name:i.dict() for i in instruments}"
   ]
  },
  {
   "cell_type": "code",
   "execution_count": null,
   "metadata": {},
   "outputs": [],
   "source": []
  },
  {
   "cell_type": "code",
   "execution_count": null,
   "metadata": {},
   "outputs": [],
   "source": [
    "inst_str=','.join(insts.keys())\n",
    "inst_str"
   ]
  },
  {
   "cell_type": "code",
   "execution_count": null,
   "metadata": {},
   "outputs": [],
   "source": [
    "%%time\n",
    "prices = ctx.pricing.get(defs.ACCOUNT_ID, instruments=inst_str).get('prices')\n",
    "price_list = []\n",
    "for p in prices:\n",
    "    price_list.append(dict(\n",
    "        instrument=p.instrument,\n",
    "        bid=p.bids[0].price,\n",
    "        ask=p.asks[0].price,\n",
    "        spread =p.asks[0].price-p.bids[0].price))\n",
    "df = pd.DataFrame(price_list)    \n",
    "print(df[df.spread < 0.0003].sort_values(by='spread').to_string(index=False))"
   ]
  },
  {
   "cell_type": "code",
   "execution_count": null,
   "metadata": {},
   "outputs": [],
   "source": [
    "insts['EUR_CAD']"
   ]
  }
 ],
 "metadata": {
  "kernelspec": {
   "display_name": "Python 3 (ipykernel)",
   "language": "python",
   "name": "python3"
  },
  "language_info": {
   "codemirror_mode": {
    "name": "ipython",
    "version": 3
   },
   "file_extension": ".py",
   "mimetype": "text/x-python",
   "name": "python",
   "nbconvert_exporter": "python",
   "pygments_lexer": "ipython3",
   "version": "3.9.9"
  }
 },
 "nbformat": 4,
 "nbformat_minor": 4
}
