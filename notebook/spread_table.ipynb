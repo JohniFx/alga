{
 "cells": [
  {
   "cell_type": "code",
   "execution_count": 1,
   "metadata": {},
   "outputs": [],
   "source": [
    "import v20\n",
    "import pandas as pd\n",
    "import defs"
   ]
  },
  {
   "cell_type": "code",
   "execution_count": 2,
   "metadata": {},
   "outputs": [],
   "source": [
    "# create context\n",
    "ctx = v20.Context(hostname='api-fxpractice.oanda.com', token=defs.key)\n",
    "ctx.set_header(key='Authorization', value=defs.key)\n",
    "\n",
    "# streaming context\n",
    "ctxs = v20.Context(hostname='stream-fxpractice.oanda.com', token=defs.key)\n",
    "ctxs.set_header(key='Authorization', value=defs.key)"
   ]
  },
  {
   "cell_type": "code",
   "execution_count": 3,
   "metadata": {},
   "outputs": [],
   "source": [
    "insts = ctx.account.instruments(defs.ACCOUNT_ID).get('instruments')\n",
    "instruments = {i.name:i.dict() for i in insts}"
   ]
  },
  {
   "cell_type": "code",
   "execution_count": 4,
   "metadata": {},
   "outputs": [],
   "source": [
    "instruments['EUR_USD']['bid'] = 1.1334"
   ]
  },
  {
   "cell_type": "code",
   "execution_count": 5,
   "metadata": {},
   "outputs": [
    {
     "data": {
      "text/plain": [
       "{'name': 'EUR_USD',\n",
       " 'type': 'CURRENCY',\n",
       " 'displayName': 'EUR/USD',\n",
       " 'pipLocation': -4,\n",
       " 'displayPrecision': 5,\n",
       " 'tradeUnitsPrecision': 0,\n",
       " 'minimumTradeSize': '1.0',\n",
       " 'maximumTrailingStopDistance': '1.0',\n",
       " 'minimumTrailingStopDistance': '0.0005',\n",
       " 'maximumPositionSize': '0.0',\n",
       " 'maximumOrderUnits': '100000000.0',\n",
       " 'marginRate': '0.02',\n",
       " 'bid': 1.1334}"
      ]
     },
     "execution_count": 5,
     "metadata": {},
     "output_type": "execute_result"
    }
   ],
   "source": [
    "instruments['EUR_USD']"
   ]
  },
  {
   "cell_type": "code",
   "execution_count": 7,
   "metadata": {},
   "outputs": [
    {
     "data": {
      "text/plain": [
       "'EUR_HUF,EUR_DKK,USD_MXN,GBP_USD,CAD_CHF,EUR_GBP,GBP_CHF,USD_THB,USD_ZAR,EUR_NOK,CAD_JPY,EUR_HKD,AUD_HKD,USD_SEK,GBP_SGD,GBP_HKD,EUR_NZD,SGD_CHF,AUD_SGD,EUR_JPY,USD_CHF,USD_TRY,GBP_JPY,EUR_CZK,CHF_ZAR,EUR_TRY,USD_JPY,GBP_ZAR,SGD_JPY,USD_CZK,USD_NOK,ZAR_JPY,TRY_JPY,USD_DKK,EUR_PLN,AUD_CAD,USD_HKD,CAD_SGD,GBP_NZD,NZD_USD,AUD_NZD,CHF_HKD,NZD_HKD,USD_CNH,NZD_SGD,USD_SGD,EUR_SEK,NZD_CHF,HKD_JPY,AUD_CHF,CHF_JPY,AUD_JPY,EUR_ZAR,EUR_AUD,NZD_JPY,USD_CAD,EUR_CHF,EUR_CAD,USD_HUF,NZD_CAD,EUR_SGD,AUD_USD,EUR_USD,GBP_AUD,USD_PLN,CAD_HKD,GBP_CAD,GBP_PLN'"
      ]
     },
     "execution_count": 7,
     "metadata": {},
     "output_type": "execute_result"
    }
   ],
   "source": [
    "inst_str=','.join(instruments.keys())\n",
    "inst_str"
   ]
  },
  {
   "cell_type": "code",
   "execution_count": 8,
   "metadata": {},
   "outputs": [
    {
     "name": "stdout",
     "output_type": "stream",
     "text": [
      "Empty DataFrame\n",
      "Columns: [instrument, bid, ask, spread]\n",
      "Index: []\n",
      "CPU times: user 17.6 ms, sys: 3.57 ms, total: 21.2 ms\n",
      "Wall time: 215 ms\n"
     ]
    }
   ],
   "source": [
    "%%time\n",
    "prices = ctx.pricing.get(defs.ACCOUNT_ID, instruments=inst_str).get('prices')\n",
    "price_list = []\n",
    "for p in prices:\n",
    "    price_list.append(dict(\n",
    "        instrument=p.instrument,\n",
    "        bid=p.bids[0].price,\n",
    "        ask=p.asks[0].price,\n",
    "        spread=p.asks[0].price-p.bids[0].price))\n",
    "df = pd.DataFrame(price_list)    \n",
    "print(df[df.spread < 0.0003].sort_values(by='spread').to_string(index=False))"
   ]
  },
  {
   "cell_type": "code",
   "execution_count": 9,
   "metadata": {},
   "outputs": [
    {
     "data": {
      "text/html": [
       "<div>\n",
       "<style scoped>\n",
       "    .dataframe tbody tr th:only-of-type {\n",
       "        vertical-align: middle;\n",
       "    }\n",
       "\n",
       "    .dataframe tbody tr th {\n",
       "        vertical-align: top;\n",
       "    }\n",
       "\n",
       "    .dataframe thead th {\n",
       "        text-align: right;\n",
       "    }\n",
       "</style>\n",
       "<table border=\"1\" class=\"dataframe\">\n",
       "  <thead>\n",
       "    <tr style=\"text-align: right;\">\n",
       "      <th></th>\n",
       "      <th>instrument</th>\n",
       "      <th>bid</th>\n",
       "      <th>ask</th>\n",
       "      <th>spread</th>\n",
       "    </tr>\n",
       "  </thead>\n",
       "  <tbody>\n",
       "    <tr>\n",
       "      <th>0</th>\n",
       "      <td>EUR_HUF</td>\n",
       "      <td>368.99500</td>\n",
       "      <td>370.11900</td>\n",
       "      <td>1.12400</td>\n",
       "    </tr>\n",
       "    <tr>\n",
       "      <th>1</th>\n",
       "      <td>EUR_DKK</td>\n",
       "      <td>7.43529</td>\n",
       "      <td>7.43736</td>\n",
       "      <td>0.00207</td>\n",
       "    </tr>\n",
       "    <tr>\n",
       "      <th>2</th>\n",
       "      <td>USD_MXN</td>\n",
       "      <td>20.60170</td>\n",
       "      <td>20.63116</td>\n",
       "      <td>0.02946</td>\n",
       "    </tr>\n",
       "    <tr>\n",
       "      <th>3</th>\n",
       "      <td>GBP_USD</td>\n",
       "      <td>1.33853</td>\n",
       "      <td>1.34003</td>\n",
       "      <td>0.00150</td>\n",
       "    </tr>\n",
       "    <tr>\n",
       "      <th>4</th>\n",
       "      <td>CAD_CHF</td>\n",
       "      <td>0.71698</td>\n",
       "      <td>0.71872</td>\n",
       "      <td>0.00174</td>\n",
       "    </tr>\n",
       "  </tbody>\n",
       "</table>\n",
       "</div>"
      ],
      "text/plain": [
       "  instrument        bid        ask   spread\n",
       "0    EUR_HUF  368.99500  370.11900  1.12400\n",
       "1    EUR_DKK    7.43529    7.43736  0.00207\n",
       "2    USD_MXN   20.60170   20.63116  0.02946\n",
       "3    GBP_USD    1.33853    1.34003  0.00150\n",
       "4    CAD_CHF    0.71698    0.71872  0.00174"
      ]
     },
     "execution_count": 9,
     "metadata": {},
     "output_type": "execute_result"
    }
   ],
   "source": [
    "df.head()"
   ]
  }
 ],
 "metadata": {
  "kernelspec": {
   "display_name": "Python 3 (ipykernel)",
   "language": "python",
   "name": "python3"
  },
  "language_info": {
   "codemirror_mode": {
    "name": "ipython",
    "version": 3
   },
   "file_extension": ".py",
   "mimetype": "text/x-python",
   "name": "python",
   "nbconvert_exporter": "python",
   "pygments_lexer": "ipython3",
   "version": "3.9.9"
  }
 },
 "nbformat": 4,
 "nbformat_minor": 4
}
