{
 "cells": [
  {
   "cell_type": "code",
   "execution_count": 1,
   "metadata": {},
   "outputs": [],
   "source": [
    "import v20\n",
    "import pandas as pd\n",
    "import defs"
   ]
  },
  {
   "cell_type": "code",
   "execution_count": 2,
   "metadata": {},
   "outputs": [],
   "source": [
    "# create context\n",
    "ctx = v20.Context(hostname='api-fxpractice.oanda.com', token=defs.key)\n",
    "ctx.set_header(key='Authorization', value=defs.key)\n",
    "\n",
    "# streaming context\n",
    "ctxs = v20.Context(hostname='stream-fxpractice.oanda.com', token=defs.key)\n",
    "ctxs.set_header(key='Authorization', value=defs.key)"
   ]
  },
  {
   "cell_type": "code",
   "execution_count": 3,
   "metadata": {},
   "outputs": [],
   "source": [
    "insts = ctx.account.instruments(defs.ACCOUNT_ID).get('instruments')\n",
    "instruments = {i.name:i.dict() for i in instruments}"
   ]
  },
  {
   "cell_type": "code",
   "execution_count": null,
   "metadata": {},
   "outputs": [],
   "source": []
  },
  {
   "cell_type": "code",
   "execution_count": 4,
   "metadata": {},
   "outputs": [
    {
     "data": {
      "text/plain": [
       "'EUR_HUF,EUR_DKK,USD_MXN,GBP_USD,CAD_CHF,EUR_GBP,GBP_CHF,USD_THB,USD_ZAR,EUR_NOK,CAD_JPY,EUR_HKD,AUD_HKD,USD_SEK,GBP_SGD,GBP_HKD,EUR_NZD,SGD_CHF,AUD_SGD,EUR_JPY,USD_CHF,USD_TRY,GBP_JPY,EUR_CZK,CHF_ZAR,EUR_TRY,USD_JPY,GBP_ZAR,SGD_JPY,USD_CZK,USD_NOK,ZAR_JPY,TRY_JPY,USD_DKK,EUR_PLN,AUD_CAD,USD_HKD,CAD_SGD,GBP_NZD,NZD_USD,AUD_NZD,CHF_HKD,NZD_HKD,USD_CNH,NZD_SGD,USD_SGD,EUR_SEK,NZD_CHF,HKD_JPY,AUD_CHF,CHF_JPY,AUD_JPY,EUR_ZAR,EUR_AUD,NZD_JPY,USD_CAD,EUR_CHF,EUR_CAD,USD_HUF,NZD_CAD,EUR_SGD,AUD_USD,EUR_USD,GBP_AUD,USD_PLN,CAD_HKD,GBP_CAD,GBP_PLN'"
      ]
     },
     "execution_count": 4,
     "metadata": {},
     "output_type": "execute_result"
    }
   ],
   "source": [
    "inst_str=','.join(insts.keys())\n",
    "inst_str"
   ]
  },
  {
   "cell_type": "code",
   "execution_count": 8,
   "metadata": {},
   "outputs": [
    {
     "name": "stdout",
     "output_type": "stream",
     "text": [
      "instrument     bid     ask  spread\n",
      "   EUR_USD 1.13409 1.13423 0.00014\n",
      "   EUR_CHF 1.04000 1.04022 0.00022\n",
      "   AUD_USD 0.72413 0.72437 0.00024\n",
      "   USD_CHF 0.91693 0.91718 0.00025\n",
      "CPU times: user 8.65 ms, sys: 324 µs, total: 8.98 ms\n",
      "Wall time: 184 ms\n"
     ]
    }
   ],
   "source": [
    "%%time\n",
    "prices = ctx.pricing.get(defs.ACCOUNT_ID, instruments=inst_str).get('prices')\n",
    "price_list = []\n",
    "for p in prices:\n",
    "    price_list.append(dict(\n",
    "        instrument=p.instrument,\n",
    "        bid=p.bids[0].price,\n",
    "        ask=p.asks[0].price,\n",
    "        spread =p.asks[0].price-p.bids[0].price))\n",
    "df = pd.DataFrame(price_list)    \n",
    "print(df[df.spread < 0.0003].sort_values(by='spread').to_string(index=False))"
   ]
  },
  {
   "cell_type": "code",
   "execution_count": 4,
   "metadata": {},
   "outputs": [
    {
     "data": {
      "text/plain": [
       "{'name': 'EUR_CAD',\n",
       " 'type': 'CURRENCY',\n",
       " 'displayName': 'EUR/CAD',\n",
       " 'pipLocation': -4,\n",
       " 'displayPrecision': 5,\n",
       " 'tradeUnitsPrecision': 0,\n",
       " 'minimumTradeSize': '1.0',\n",
       " 'maximumTrailingStopDistance': '1.0',\n",
       " 'minimumTrailingStopDistance': '0.0005',\n",
       " 'maximumPositionSize': '0.0',\n",
       " 'maximumOrderUnits': '100000000.0',\n",
       " 'marginRate': '0.02'}"
      ]
     },
     "execution_count": 4,
     "metadata": {},
     "output_type": "execute_result"
    }
   ],
   "source": [
    "insts['EUR_CAD']"
   ]
  },
  {
   "cell_type": "code",
   "execution_count": null,
   "metadata": {},
   "outputs": [],
   "source": []
  }
 ],
 "metadata": {
  "kernelspec": {
   "display_name": "Python 3 (ipykernel)",
   "language": "python",
   "name": "python3"
  },
  "language_info": {
   "codemirror_mode": {
    "name": "ipython",
    "version": 3
   },
   "file_extension": ".py",
   "mimetype": "text/x-python",
   "name": "python",
   "nbconvert_exporter": "python",
   "pygments_lexer": "ipython3",
   "version": "3.9.9"
  }
 },
 "nbformat": 4,
 "nbformat_minor": 4
}
