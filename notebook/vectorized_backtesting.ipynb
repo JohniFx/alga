{
 "cells": [
  {
   "cell_type": "code",
   "execution_count": 2,
   "metadata": {},
   "outputs": [],
   "source": [
    "import defs\n",
    "import pandas as pd\n",
    "import numpy as np"
   ]
  },
  {
   "cell_type": "code",
   "execution_count": 3,
   "metadata": {},
   "outputs": [
    {
     "ename": "FileNotFoundError",
     "evalue": "[Errno 2] No such file or directory: 'data/EUR_USD_M5.pkl'",
     "output_type": "error",
     "traceback": [
      "\u001b[0;31m---------------------------------------------------------------------------\u001b[0m",
      "\u001b[0;31mFileNotFoundError\u001b[0m                         Traceback (most recent call last)",
      "\u001b[0;32m/tmp/ipykernel_216695/3100804366.py\u001b[0m in \u001b[0;36m<module>\u001b[0;34m\u001b[0m\n\u001b[0;32m----> 1\u001b[0;31m \u001b[0mdf\u001b[0m \u001b[0;34m=\u001b[0m \u001b[0mpd\u001b[0m\u001b[0;34m.\u001b[0m\u001b[0mread_pickle\u001b[0m\u001b[0;34m(\u001b[0m\u001b[0;34m'data/EUR_USD_M5.pkl'\u001b[0m\u001b[0;34m)\u001b[0m\u001b[0;34m\u001b[0m\u001b[0;34m\u001b[0m\u001b[0m\n\u001b[0m",
      "\u001b[0;32m~/.local/lib/python3.9/site-packages/pandas/io/pickle.py\u001b[0m in \u001b[0;36mread_pickle\u001b[0;34m(filepath_or_buffer, compression, storage_options)\u001b[0m\n\u001b[1;32m    194\u001b[0m     \"\"\"\n\u001b[1;32m    195\u001b[0m     \u001b[0mexcs_to_catch\u001b[0m \u001b[0;34m=\u001b[0m \u001b[0;34m(\u001b[0m\u001b[0mAttributeError\u001b[0m\u001b[0;34m,\u001b[0m \u001b[0mImportError\u001b[0m\u001b[0;34m,\u001b[0m \u001b[0mModuleNotFoundError\u001b[0m\u001b[0;34m,\u001b[0m \u001b[0mTypeError\u001b[0m\u001b[0;34m)\u001b[0m\u001b[0;34m\u001b[0m\u001b[0;34m\u001b[0m\u001b[0m\n\u001b[0;32m--> 196\u001b[0;31m     with get_handle(\n\u001b[0m\u001b[1;32m    197\u001b[0m         \u001b[0mfilepath_or_buffer\u001b[0m\u001b[0;34m,\u001b[0m\u001b[0;34m\u001b[0m\u001b[0;34m\u001b[0m\u001b[0m\n\u001b[1;32m    198\u001b[0m         \u001b[0;34m\"rb\"\u001b[0m\u001b[0;34m,\u001b[0m\u001b[0;34m\u001b[0m\u001b[0;34m\u001b[0m\u001b[0m\n",
      "\u001b[0;32m~/.local/lib/python3.9/site-packages/pandas/io/common.py\u001b[0m in \u001b[0;36mget_handle\u001b[0;34m(path_or_buf, mode, encoding, compression, memory_map, is_text, errors, storage_options)\u001b[0m\n\u001b[1;32m    709\u001b[0m         \u001b[0;32melse\u001b[0m\u001b[0;34m:\u001b[0m\u001b[0;34m\u001b[0m\u001b[0;34m\u001b[0m\u001b[0m\n\u001b[1;32m    710\u001b[0m             \u001b[0;31m# Binary mode\u001b[0m\u001b[0;34m\u001b[0m\u001b[0;34m\u001b[0m\u001b[0m\n\u001b[0;32m--> 711\u001b[0;31m             \u001b[0mhandle\u001b[0m \u001b[0;34m=\u001b[0m \u001b[0mopen\u001b[0m\u001b[0;34m(\u001b[0m\u001b[0mhandle\u001b[0m\u001b[0;34m,\u001b[0m \u001b[0mioargs\u001b[0m\u001b[0;34m.\u001b[0m\u001b[0mmode\u001b[0m\u001b[0;34m)\u001b[0m\u001b[0;34m\u001b[0m\u001b[0;34m\u001b[0m\u001b[0m\n\u001b[0m\u001b[1;32m    712\u001b[0m         \u001b[0mhandles\u001b[0m\u001b[0;34m.\u001b[0m\u001b[0mappend\u001b[0m\u001b[0;34m(\u001b[0m\u001b[0mhandle\u001b[0m\u001b[0;34m)\u001b[0m\u001b[0;34m\u001b[0m\u001b[0;34m\u001b[0m\u001b[0m\n\u001b[1;32m    713\u001b[0m \u001b[0;34m\u001b[0m\u001b[0m\n",
      "\u001b[0;31mFileNotFoundError\u001b[0m: [Errno 2] No such file or directory: 'data/EUR_USD_M5.pkl'"
     ]
    }
   ],
   "source": [
    "df = pd.read_pickle('data/EUR_USD_M5.pkl')"
   ]
  },
  {
   "cell_type": "code",
   "execution_count": 66,
   "metadata": {},
   "outputs": [
    {
     "name": "stdout",
     "output_type": "stream",
     "text": [
      "Gross performance:\n",
      "returns     0.985947\n",
      "strategy    1.007798\n",
      "dtype: float64\n"
     ]
    },
    {
     "data": {
      "image/png": "[encoded data removed]",
      "text/plain": [
       "<Figure size 432x288 with 1 Axes>"
      ]
     },
     "metadata": {
      "needs_background": "light"
     },
     "output_type": "display_data"
    }
   ],
   "source": [
    "df[['returns', 'strategy']].cumsum().apply(np.exp).plot()\n",
    "print(f\"Gross performance:\\n{df[['returns', 'strategy']].sum().apply(np.exp)}\")"
   ]
  },
  {
   "cell_type": "code",
   "execution_count": 62,
   "metadata": {},
   "outputs": [
    {
     "data": {
      "text/plain": [
       "1.007798"
      ]
     },
     "execution_count": 62,
     "metadata": {},
     "output_type": "execute_result"
    }
   ],
   "source": [
    "df[['strategy', 'returns']].sum().apply(np.exp)[0].round(6)"
   ]
  },
  {
   "cell_type": "code",
   "execution_count": 85,
   "metadata": {},
   "outputs": [
    {
     "name": "stdout",
     "output_type": "stream",
     "text": [
      "EUR_USD M1 M5 M15 M30 H1\n",
      "EUR_AUD M1 M5 M15 M30 H1\n",
      "EUR_NZD M1 M5 M15 M30 H1\n",
      "EUR_CAD M1 M5 M15 M30 H1\n",
      "GBP_AUD M1 M5 M15 M30 H1\n"
     ]
    },
    {
     "data": {
      "text/plain": [
       "(57600, 8)"
      ]
     },
     "execution_count": 85,
     "metadata": {},
     "output_type": "execute_result"
    }
   ],
   "source": [
    "instruments = ['EUR_USD', 'EUR_AUD', 'EUR_NZD', 'EUR_CAD', 'GBP_AUD']\n",
    "tfs = ['M1', 'M5', 'M15', 'M30', 'H1']\n",
    "\n",
    "results = []\n",
    "for inst in instruments:\n",
    "    print(inst, end='')\n",
    "    for tf in tfs:        \n",
    "        print(f' {tf}', end='')\n",
    "        filename = f'data/{inst}_{tf}.pkl'\n",
    "        df = pd.read_pickle(filename)\n",
    "        # instrument hozama \n",
    "        df['returns'] = np.log(df.mid_c/df.mid_c.shift(1))\n",
    "        df['mom'] = df.mid_c.diff(10)\n",
    "        for ql in range (1, 49):\n",
    "            for qh in range(1,49):\n",
    "                q_low = df.mom.quantile(ql/100)\n",
    "                q_hi = df.mom.quantile((100-qh)/100)\n",
    "                df['position'] = np.where(df.mom>q_low, 1, 0)\n",
    "                df['position'] = np.where(df.mom<q_hi,-1, df.position)\n",
    "                df['strategy'] = df.position.shift(1) * df.returns \n",
    "                df[['strategy', 'returns']].sum().apply(np.exp)[0].round(6)\n",
    "                result = dict(\n",
    "                    inst = inst,\n",
    "                    tf = tf,\n",
    "                    ql = ql,\n",
    "                    qh = qh,\n",
    "                    q1 = q_low,\n",
    "                    q2 =  q_hi,\n",
    "                    strategy =  df[['strategy', 'returns']].sum().apply(np.exp)[0].round(6),\n",
    "                    returns = df[['strategy', 'returns']].sum().apply(np.exp)[1].round(6)\n",
    "                )\n",
    "                results.append(result)\n",
    "    print('')\n",
    "df_results = pd.DataFrame(results)\n",
    "df_results.shape"
   ]
  },
  {
   "cell_type": "code",
   "execution_count": 117,
   "metadata": {},
   "outputs": [
    {
     "data": {
      "text/html": [
       "<div>\n",
       "<style scoped>\n",
       "    .dataframe tbody tr th:only-of-type {\n",
       "        vertical-align: middle;\n",
       "    }\n",
       "\n",
       "    .dataframe tbody tr th {\n",
       "        vertical-align: top;\n",
       "    }\n",
       "\n",
       "    .dataframe thead th {\n",
       "        text-align: right;\n",
       "    }\n",
       "</style>\n",
       "<table border=\"1\" class=\"dataframe\">\n",
       "  <thead>\n",
       "    <tr style=\"text-align: right;\">\n",
       "      <th></th>\n",
       "      <th>inst</th>\n",
       "      <th>tf</th>\n",
       "      <th>ql</th>\n",
       "      <th>qh</th>\n",
       "      <th>q1</th>\n",
       "      <th>q2</th>\n",
       "      <th>strategy</th>\n",
       "      <th>returns</th>\n",
       "    </tr>\n",
       "  </thead>\n",
       "  <tbody>\n",
       "    <tr>\n",
       "      <th>343</th>\n",
       "      <td>EUR_USD</td>\n",
       "      <td>M1</td>\n",
       "      <td>8</td>\n",
       "      <td>8</td>\n",
       "      <td>-0.000500</td>\n",
       "      <td>0.000420</td>\n",
       "      <td>1.011225</td>\n",
       "      <td>0.987453</td>\n",
       "    </tr>\n",
       "    <tr>\n",
       "      <th>2647</th>\n",
       "      <td>EUR_USD</td>\n",
       "      <td>M5</td>\n",
       "      <td>8</td>\n",
       "      <td>8</td>\n",
       "      <td>-0.000980</td>\n",
       "      <td>0.000880</td>\n",
       "      <td>1.009447</td>\n",
       "      <td>0.985947</td>\n",
       "    </tr>\n",
       "    <tr>\n",
       "      <th>4951</th>\n",
       "      <td>EUR_USD</td>\n",
       "      <td>M15</td>\n",
       "      <td>8</td>\n",
       "      <td>8</td>\n",
       "      <td>-0.001569</td>\n",
       "      <td>0.001280</td>\n",
       "      <td>1.025218</td>\n",
       "      <td>0.968917</td>\n",
       "    </tr>\n",
       "    <tr>\n",
       "      <th>7255</th>\n",
       "      <td>EUR_USD</td>\n",
       "      <td>M30</td>\n",
       "      <td>8</td>\n",
       "      <td>8</td>\n",
       "      <td>-0.002000</td>\n",
       "      <td>0.001850</td>\n",
       "      <td>1.003920</td>\n",
       "      <td>0.973161</td>\n",
       "    </tr>\n",
       "    <tr>\n",
       "      <th>9559</th>\n",
       "      <td>EUR_USD</td>\n",
       "      <td>H1</td>\n",
       "      <td>8</td>\n",
       "      <td>8</td>\n",
       "      <td>-0.003198</td>\n",
       "      <td>0.003150</td>\n",
       "      <td>1.035717</td>\n",
       "      <td>0.968114</td>\n",
       "    </tr>\n",
       "    <tr>\n",
       "      <th>11863</th>\n",
       "      <td>EUR_AUD</td>\n",
       "      <td>M1</td>\n",
       "      <td>8</td>\n",
       "      <td>8</td>\n",
       "      <td>-0.000770</td>\n",
       "      <td>0.000660</td>\n",
       "      <td>1.002812</td>\n",
       "      <td>0.992233</td>\n",
       "    </tr>\n",
       "    <tr>\n",
       "      <th>16471</th>\n",
       "      <td>EUR_AUD</td>\n",
       "      <td>M15</td>\n",
       "      <td>8</td>\n",
       "      <td>8</td>\n",
       "      <td>-0.003180</td>\n",
       "      <td>0.002940</td>\n",
       "      <td>1.037917</td>\n",
       "      <td>0.968219</td>\n",
       "    </tr>\n",
       "    <tr>\n",
       "      <th>18775</th>\n",
       "      <td>EUR_AUD</td>\n",
       "      <td>M30</td>\n",
       "      <td>8</td>\n",
       "      <td>8</td>\n",
       "      <td>-0.004079</td>\n",
       "      <td>0.003860</td>\n",
       "      <td>1.022514</td>\n",
       "      <td>0.969759</td>\n",
       "    </tr>\n",
       "    <tr>\n",
       "      <th>27991</th>\n",
       "      <td>EUR_NZD</td>\n",
       "      <td>M15</td>\n",
       "      <td>8</td>\n",
       "      <td>8</td>\n",
       "      <td>-0.003330</td>\n",
       "      <td>0.003000</td>\n",
       "      <td>1.009122</td>\n",
       "      <td>0.978611</td>\n",
       "    </tr>\n",
       "    <tr>\n",
       "      <th>30295</th>\n",
       "      <td>EUR_NZD</td>\n",
       "      <td>M30</td>\n",
       "      <td>8</td>\n",
       "      <td>8</td>\n",
       "      <td>-0.004559</td>\n",
       "      <td>0.003800</td>\n",
       "      <td>1.048154</td>\n",
       "      <td>0.951401</td>\n",
       "    </tr>\n",
       "    <tr>\n",
       "      <th>32599</th>\n",
       "      <td>EUR_NZD</td>\n",
       "      <td>H1</td>\n",
       "      <td>8</td>\n",
       "      <td>8</td>\n",
       "      <td>-0.006480</td>\n",
       "      <td>0.005879</td>\n",
       "      <td>1.029291</td>\n",
       "      <td>0.958225</td>\n",
       "    </tr>\n",
       "    <tr>\n",
       "      <th>34903</th>\n",
       "      <td>EUR_CAD</td>\n",
       "      <td>M1</td>\n",
       "      <td>8</td>\n",
       "      <td>8</td>\n",
       "      <td>-0.000620</td>\n",
       "      <td>0.000600</td>\n",
       "      <td>1.003657</td>\n",
       "      <td>0.996448</td>\n",
       "    </tr>\n",
       "    <tr>\n",
       "      <th>41815</th>\n",
       "      <td>EUR_CAD</td>\n",
       "      <td>M30</td>\n",
       "      <td>8</td>\n",
       "      <td>8</td>\n",
       "      <td>-0.003400</td>\n",
       "      <td>0.002918</td>\n",
       "      <td>1.027671</td>\n",
       "      <td>0.956879</td>\n",
       "    </tr>\n",
       "    <tr>\n",
       "      <th>44119</th>\n",
       "      <td>EUR_CAD</td>\n",
       "      <td>H1</td>\n",
       "      <td>8</td>\n",
       "      <td>8</td>\n",
       "      <td>-0.004809</td>\n",
       "      <td>0.004480</td>\n",
       "      <td>1.076572</td>\n",
       "      <td>0.966336</td>\n",
       "    </tr>\n",
       "    <tr>\n",
       "      <th>51031</th>\n",
       "      <td>GBP_AUD</td>\n",
       "      <td>M15</td>\n",
       "      <td>8</td>\n",
       "      <td>8</td>\n",
       "      <td>-0.003479</td>\n",
       "      <td>0.003100</td>\n",
       "      <td>1.021680</td>\n",
       "      <td>0.968893</td>\n",
       "    </tr>\n",
       "    <tr>\n",
       "      <th>53335</th>\n",
       "      <td>GBP_AUD</td>\n",
       "      <td>M30</td>\n",
       "      <td>8</td>\n",
       "      <td>8</td>\n",
       "      <td>-0.004300</td>\n",
       "      <td>0.004140</td>\n",
       "      <td>1.029851</td>\n",
       "      <td>0.985234</td>\n",
       "    </tr>\n",
       "  </tbody>\n",
       "</table>\n",
       "</div>"
      ],
      "text/plain": [
       "          inst   tf  ql  qh        q1        q2  strategy   returns\n",
       "343    EUR_USD   M1   8   8 -0.000500  0.000420  1.011225  0.987453\n",
       "2647   EUR_USD   M5   8   8 -0.000980  0.000880  1.009447  0.985947\n",
       "4951   EUR_USD  M15   8   8 -0.001569  0.001280  1.025218  0.968917\n",
       "7255   EUR_USD  M30   8   8 -0.002000  0.001850  1.003920  0.973161\n",
       "9559   EUR_USD   H1   8   8 -0.003198  0.003150  1.035717  0.968114\n",
       "11863  EUR_AUD   M1   8   8 -0.000770  0.000660  1.002812  0.992233\n",
       "16471  EUR_AUD  M15   8   8 -0.003180  0.002940  1.037917  0.968219\n",
       "18775  EUR_AUD  M30   8   8 -0.004079  0.003860  1.022514  0.969759\n",
       "27991  EUR_NZD  M15   8   8 -0.003330  0.003000  1.009122  0.978611\n",
       "30295  EUR_NZD  M30   8   8 -0.004559  0.003800  1.048154  0.951401\n",
       "32599  EUR_NZD   H1   8   8 -0.006480  0.005879  1.029291  0.958225\n",
       "34903  EUR_CAD   M1   8   8 -0.000620  0.000600  1.003657  0.996448\n",
       "41815  EUR_CAD  M30   8   8 -0.003400  0.002918  1.027671  0.956879\n",
       "44119  EUR_CAD   H1   8   8 -0.004809  0.004480  1.076572  0.966336\n",
       "51031  GBP_AUD  M15   8   8 -0.003479  0.003100  1.021680  0.968893\n",
       "53335  GBP_AUD  M30   8   8 -0.004300  0.004140  1.029851  0.985234"
      ]
     },
     "execution_count": 117,
     "metadata": {},
     "output_type": "execute_result"
    }
   ],
   "source": [
    "df_results[(df_results.strategy > 1) & (df_results.ql==8)& (df_results.qh==8)]"
   ]
  },
  {
   "cell_type": "code",
   "execution_count": null,
   "metadata": {},
   "outputs": [],
   "source": [
    "\n",
    "df_results.plot.scatter(x = 'i', y = 'res');"
   ]
  },
  {
   "cell_type": "code",
   "execution_count": 79,
   "metadata": {},
   "outputs": [
    {
     "data": {
      "image/png": "[encoded data removed]",
      "text/plain": [
       "<Figure size 432x288 with 1 Axes>"
      ]
     },
     "metadata": {
      "needs_background": "light"
     },
     "output_type": "display_data"
    }
   ],
   "source": [
    "df_results.res.hist();"
   ]
  },
  {
   "cell_type": "code",
   "execution_count": null,
   "metadata": {},
   "outputs": [],
   "source": []
  }
 ],
 "metadata": {
  "interpreter": {
   "hash": "de782a28c21da66ba6769746b8e37ee00ecccb02d6888bb6d96b97eb22efc62b"
  },
  "kernelspec": {
   "display_name": "Python 3 (ipykernel)",
   "language": "python",
   "name": "python3"
  },
  "language_info": {
   "codemirror_mode": {
    "name": "ipython",
    "version": 3
   },
   "file_extension": ".py",
   "mimetype": "text/x-python",
   "name": "python",
   "nbconvert_exporter": "python",
   "pygments_lexer": "ipython3",
   "version": "3.9.9"
  }
 },
 "nbformat": 4,
 "nbformat_minor": 2
}
